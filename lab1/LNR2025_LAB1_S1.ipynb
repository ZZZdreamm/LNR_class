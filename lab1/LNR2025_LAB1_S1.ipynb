{
  "nbformat": 4,
  "nbformat_minor": 0,
  "metadata": {
    "colab": {
      "provenance": []
    },
    "kernelspec": {
      "name": "python3",
      "display_name": "Python 3"
    },
    "language_info": {
      "name": "python"
    }
  },
  "cells": [
    {
      "cell_type": "markdown",
      "source": [
        "**EXAMPLE 1: Simple Regular Expressions**"
      ],
      "metadata": {
        "id": "tkaxZQa8VIvz"
      }
    },
    {
      "cell_type": "code",
      "source": [
        "import re"
      ],
      "metadata": {
        "id": "IOmPyOKcVJnV"
      },
      "execution_count": 1,
      "outputs": []
    },
    {
      "cell_type": "code",
      "source": [
        "# To search for datascience, we type /datascience/. The expression r'datascience' matches any string containing the\n",
        "# substring datascience; grep with that expression would return the line 'I really want to be study datascience'.\n",
        "# The search string can consist of a single character (like /!/) or a sequence of characters (like /ugly/)\n",
        "\n",
        "s1 = \"I really want to be study datascience\"\n",
        "s2 = \"The virus was exceptionally ugly\"\n",
        "s3 =  \"Computers are amazing!\""
      ],
      "metadata": {
        "id": "6mW2ZWcBx0QD"
      },
      "execution_count": 2,
      "outputs": []
    },
    {
      "cell_type": "code",
      "source": [
        "\n",
        "matching =re.search(r'datascience', s1)\n",
        "print(matching.group())\n",
        "matching =re.search(r'ugly', s2)\n",
        "print(matching.group())\n",
        "matching =re.search(r'!', s3)\n",
        "print(matching.group())"
      ],
      "metadata": {
        "colab": {
          "base_uri": "https://localhost:8080/"
        },
        "id": "l-H1WL901ZVM",
        "outputId": "df034bc1-96dc-4b19-88c0-bdf80791db4f"
      },
      "execution_count": 3,
      "outputs": [
        {
          "output_type": "stream",
          "name": "stdout",
          "text": [
            "datascience\n",
            "ugly\n",
            "!\n"
          ]
        }
      ]
    },
    {
      "cell_type": "markdown",
      "source": [
        "**EXAMPLE 2: Disjunction of Characters**"
      ],
      "metadata": {
        "id": "uta_OHkvM1rO"
      }
    },
    {
      "cell_type": "code",
      "source": [
        "#Case-sensitive and character disjunctions\n",
        "\n",
        "s1 = \"Datascience and datascience\"\n",
        "s2 = \"The dog is on the sand\"\n",
        "s3 = \"The 10% of students like programming\"\n",
        "matching =re.search(r'[dD]atascience', s1)\n",
        "print(matching.group())\n",
        "matching =re.search(r'[abc]', s2)\n",
        "print(matching.group())\n",
        "matching =re.search(r'[0123456789]', s3)\n",
        "print(matching.group())"
      ],
      "metadata": {
        "colab": {
          "base_uri": "https://localhost:8080/"
        },
        "id": "EL67LUjWPmPQ",
        "outputId": "eb495427-2bf6-4252-d29d-7daaa84ab92f"
      },
      "execution_count": 4,
      "outputs": [
        {
          "output_type": "stream",
          "name": "stdout",
          "text": [
            "Datascience\n",
            "a\n",
            "1\n"
          ]
        }
      ]
    },
    {
      "cell_type": "markdown",
      "source": [
        "**EXAMPLE 3: Range of Characters**"
      ],
      "metadata": {
        "id": "kqtNjrgsNR6i"
      }
    },
    {
      "cell_type": "code",
      "source": [
        "# r'[A-Z]' an upper case letter “I enrolled in the NLP course”\n",
        "# r'[a-z]' a lower case letter “Learning about language is great”\n",
        "# r'[0-9]' a single digit “Only 12 lessons of the NLP”\n",
        "s1 = \"enrolled in the NLP course\"\n",
        "s2 = \"learning about language is great\"\n",
        "s3 = \"only 12 lessons of the NLP\"\n",
        "\n",
        "matching=re.search(r'[A-Z]',s1)\n",
        "print(matching.group())\n",
        "matching=re.search(r'[a-z]',s2)\n",
        "print(matching.group())\n",
        "matching=re.search(r'[0-9]',s3)\n",
        "print(matching.group())"
      ],
      "metadata": {
        "colab": {
          "base_uri": "https://localhost:8080/"
        },
        "id": "YSkKCp-eUqXM",
        "outputId": "49ef5d2c-1636-4678-8801-c829c72b2c47"
      },
      "execution_count": 5,
      "outputs": [
        {
          "output_type": "stream",
          "name": "stdout",
          "text": [
            "N\n",
            "l\n",
            "1\n"
          ]
        }
      ]
    },
    {
      "cell_type": "code",
      "source": [
        "#r'[ˆA-Z]' not an upper case letter “Enrolled In tHe NLP course”\n",
        "#r'[ˆSs]' neither ‘S’ nor ‘s’ “Spring is sweet and safe”\n",
        "#r'[ˆ.]' not a period “our professor Rosso”\n",
        "#r'[eˆ]' either ‘e’ or ‘ˆ’ “Look up ˆ now ”\n",
        "#r'aˆb' the pattern ‘aˆb’ “look up aˆb now”\n",
        "\n",
        "s1 = \"Enrolled In tHe NLP course \"\n",
        "s2 = \"Spring is sweet and safe\"\n",
        "s3 = \".our professor Rosso.\"\n",
        "s4 = \"Look up ^ now \"\n",
        "s5 = \"Look up a^b now\"\n",
        "\n",
        "matching=re.search(r'[^A-Z]',s1)\n",
        "print(matching.group())\n",
        "matching=re.search(r'[^Ss]',s2)\n",
        "print(matching.group())\n",
        "matching=re.search(r'[^.]',s3)\n",
        "print(matching.group())\n",
        "matching=re.search(r'[e^]',s4)\n",
        "print(matching.group())\n",
        "matching=re.search(r'a\\^b',s5)\n",
        "print(matching.group())"
      ],
      "metadata": {
        "colab": {
          "base_uri": "https://localhost:8080/"
        },
        "id": "5NJBx_-8aU99",
        "outputId": "df6aa1e9-26cd-4117-8777-93e2bf280cfd"
      },
      "execution_count": 19,
      "outputs": [
        {
          "output_type": "stream",
          "name": "stdout",
          "text": [
            "n\n",
            "p\n",
            "o\n",
            "^\n",
            "a^b\n"
          ]
        }
      ]
    },
    {
      "cell_type": "markdown",
      "source": [
        "**EXAMPLE 4: Using Perido (.) and ?**"
      ],
      "metadata": {
        "id": "a0Pakk2hNjSP"
      }
    },
    {
      "cell_type": "code",
      "source": [
        "s1 = \"The progamers are bussy\"\n",
        "s2 = \"True colours in the sky\"\n",
        "s3 = \"The show begin at 8pm\"\n",
        "matching=re.search(r'progamm?ers',s1)\n",
        "print(matching.group())\n",
        "matching=re.search(r'colou?rs',s2)\n",
        "print(matching.group())\n",
        "matching=re.search(r'beg.n',s3)\n",
        "print(matching.group())"
      ],
      "metadata": {
        "colab": {
          "base_uri": "https://localhost:8080/"
        },
        "id": "kvB8AURukliZ",
        "outputId": "6af9b742-bd23-457a-c31d-2514d328bdbf"
      },
      "execution_count": 7,
      "outputs": [
        {
          "output_type": "stream",
          "name": "stdout",
          "text": [
            "progamers\n",
            "colours\n",
            "begin\n"
          ]
        }
      ]
    },
    {
      "cell_type": "markdown",
      "source": [
        "**EXAMPLE 5: Using Kleene (*) and Kleene+**"
      ],
      "metadata": {
        "id": "L83vTG8DOSip"
      }
    },
    {
      "cell_type": "code",
      "source": [
        "s1 = \"baa! baaaa! baaaa! ... \"\n",
        "s2 = \"aa aaaaa aaaaaaa ... \"\n",
        "s3 = \"ab aab baab, babba ... \"\n",
        "s4 = \"0 01 12 359 99999 ... \"\n",
        "\n",
        "matching=re.search(r'baa*!',s1)\n",
        "print(matching.group())\n",
        "matching=re.search(r'aa*',s2)\n",
        "print(matching.group())\n",
        "matching=re.search(r'[ab]*',s3)\n",
        "print(matching.group())\n",
        "matching=re.search(r'[0-9]+',s4)\n",
        "print(matching.group())"
      ],
      "metadata": {
        "colab": {
          "base_uri": "https://localhost:8080/"
        },
        "id": "IQyVSW3s7u2d",
        "outputId": "7f03fbe8-62cd-4725-a06a-7f1c07b4099d"
      },
      "execution_count": 30,
      "outputs": [
        {
          "output_type": "stream",
          "name": "stdout",
          "text": [
            "baa!\n",
            "aa\n",
            "ab\n",
            "0\n"
          ]
        }
      ]
    },
    {
      "cell_type": "markdown",
      "source": [
        "**EXAMPLE 6: Anchors**"
      ],
      "metadata": {
        "id": "ePL7DcfNSSjA"
      }
    },
    {
      "cell_type": "code",
      "source": [
        "s1 = \"Python is easy\"\n",
        "s2 = \"Programming is useful.\"\n",
        "s3 = \"Python is useful.\"\n",
        "s4 = \"Students have the Test\"\n",
        "s5 = \"Students have another Test\"\n",
        "\n",
        "matching = re.search(r'^Python is',s1)\n",
        "print(matching.group())\n",
        "matching = re.search(r'useful\\.$',s2)\n",
        "print(matching.group())\n",
        "matching = re.search(r'^Python is useful\\.$', s3)\n",
        "print(matching.group())\n",
        "matching = re.search(r'\\bthe\\b',s4)\n",
        "print(matching.group())\n",
        "matching = re.search(r'\\bthe\\b', s5)\n",
        "if matching:\n",
        "  print(matching.group())\n",
        "else:\n",
        "  print(\"No match found\")\n",
        "matching = re.search(r'\\Bthe\\B', s5)\n",
        "print(matching.group())"
      ],
      "metadata": {
        "colab": {
          "base_uri": "https://localhost:8080/"
        },
        "id": "kI2__MRIESfy",
        "outputId": "7c549d4f-a517-4432-ae57-311e7a090174"
      },
      "execution_count": 21,
      "outputs": [
        {
          "output_type": "stream",
          "name": "stdout",
          "text": [
            "Python is\n",
            "useful.\n",
            "Python is useful.\n",
            "the\n",
            "No match found\n",
            "the\n"
          ]
        }
      ]
    },
    {
      "cell_type": "markdown",
      "source": [
        "**EXAMPLE 7: Groups**"
      ],
      "metadata": {
        "id": "geaMr38US-4a"
      }
    },
    {
      "cell_type": "code",
      "source": [
        "matching=re.search(r'cat|dog',\"the cat is on the table\")\n",
        "print(matching.group())\n",
        "matching=re.search(r'cat|dog',\"the dog is on the table\")\n",
        "print(matching.group())\n",
        "\n",
        "matching=re.search(r'(cat|dog) is (black|white)',\"the dog is black\")\n",
        "print(matching.group())\n",
        "matching=re.search(r'(cat|dog) is (black|white)',\"the cat is white\")\n",
        "print(matching.group())"
      ],
      "metadata": {
        "id": "LT6nvxdTljsj"
      },
      "execution_count": null,
      "outputs": []
    },
    {
      "cell_type": "code",
      "source": [
        "pattern = \"(\\w+)@((\\w+\\.)+(com|org|net|edu|es))\"\n",
        "matching = re.search(pattern,\"student@upvnet.upv.es\")\n",
        "total_matches = len(matching.groups())\n",
        "print(\"The number of matched groups is:\", total_matches)\n",
        "\n",
        "print(\"group 1\",matching.group(1))\n",
        "print(\"group 2\", matching.group(2))\n",
        "print(\"group 3\",matching.group(3))\n",
        "print(\"group 4\",matching.group(4))"
      ],
      "metadata": {
        "colab": {
          "base_uri": "https://localhost:8080/"
        },
        "id": "C4pz75jemNi0",
        "outputId": "eea9ce8a-6d6b-454e-9d50-94c83a1b04ac"
      },
      "execution_count": 12,
      "outputs": [
        {
          "output_type": "stream",
          "name": "stdout",
          "text": [
            "The number of matched groups is: 4\n",
            "group 1 student\n",
            "group 2 upvnet.upv.es\n",
            "group 3 upv.\n",
            "group 4 es\n"
          ]
        }
      ]
    },
    {
      "cell_type": "markdown",
      "source": [
        "**EXAMPLE 8: Named Groups**"
      ],
      "metadata": {
        "id": "C5DaRqs1TN-P"
      }
    },
    {
      "cell_type": "code",
      "source": [
        "#NAMED GROUPS 1\n",
        "\n",
        "pattern = \"(?P<user>\\w+)@(?P<fulldomain>(?P<middledomain>\\w+\\.)+(?P<lastdomain>com|org|net|edu|es))\"\n",
        "matching = re.search(pattern,\"student@upvnet.upv.es\")\n",
        "total_matches = len(matching.groups())\n",
        "print(\"The number of matched groups is:\", total_matches)\n",
        "\n",
        "print(\"group user\",matching.group(\"user\"))\n",
        "print(\"group fulldomain\", matching.group(\"fulldomain\"))\n",
        "print(\"group middledomain\",matching.group(\"middledomain\"))\n",
        "print(\"group lastdomain\",matching.group(\"lastdomain\"))"
      ],
      "metadata": {
        "colab": {
          "base_uri": "https://localhost:8080/"
        },
        "id": "bkZPlp_BnwY-",
        "outputId": "e44db7ec-a899-434b-8dab-2088a3d95820"
      },
      "execution_count": 13,
      "outputs": [
        {
          "output_type": "stream",
          "name": "stdout",
          "text": [
            "The number of matched groups is: 4\n",
            "group user student\n",
            "group fulldomain upvnet.upv.es\n",
            "group middledomain upv.\n",
            "group lastdomain es\n"
          ]
        }
      ]
    },
    {
      "cell_type": "markdown",
      "source": [
        "**EXAMPLE 9: Non-Capturing Groups**"
      ],
      "metadata": {
        "id": "bnpDiWcPTYI9"
      }
    },
    {
      "cell_type": "code",
      "source": [
        "#NAMED GROUPS 2\n",
        "\n",
        "pattern = \"(?P<user>\\w+)@(?P<fulldomain>(?:\\w+\\.)+(?P<lastdomain>com|org|net|edu|es))\"\n",
        "matching = re.search(pattern,\"student@upvnet.upv.es\")\n",
        "total_matches = len(matching.groups())\n",
        "print(\"The number of matched groups is:\", total_matches)\n",
        "\n",
        "print(\"group user\",matching.group(\"user\"))\n",
        "print(\"group fulldomain\", matching.group(\"fulldomain\"))\n",
        "#print(\"group middledomain\",matching.group(\"middledomain\"))\n",
        "print(\"group lastdomain\",matching.group(\"lastdomain\"))"
      ],
      "metadata": {
        "colab": {
          "base_uri": "https://localhost:8080/"
        },
        "id": "FEnrsOvPow4l",
        "outputId": "c70a1cd0-ce34-41b4-f637-b3e43d7df4a2"
      },
      "execution_count": 23,
      "outputs": [
        {
          "output_type": "stream",
          "name": "stdout",
          "text": [
            "The number of matched groups is: 3\n",
            "group user student\n",
            "group fulldomain upvnet.upv.es\n",
            "group lastdomain es\n"
          ]
        }
      ]
    },
    {
      "cell_type": "markdown",
      "source": [
        "**EXAMPLE 10: Back References**"
      ],
      "metadata": {
        "id": "QSYTcuDtTokg"
      }
    },
    {
      "cell_type": "code",
      "source": [
        "#Back reference using named groups\n",
        "pattern= r\"(?P<word>\\w+)\\s+(?P=word)\"\n",
        "matching = re.search(pattern,\"hello  hello\")\n",
        "print(matching.group(\"word\"))\n",
        "\n",
        "#Back reference using unnamed groups\n",
        "pattern = r\"(\\w+)\\s+(\\1)\"\n",
        "matching = re.search(pattern,\"hello  hello\")\n",
        "print(matching.group(1))"
      ],
      "metadata": {
        "colab": {
          "base_uri": "https://localhost:8080/"
        },
        "id": "cN_ZChiNqk9d",
        "outputId": "412cb5d4-8b4a-4379-e541-21a919998b7b"
      },
      "execution_count": 27,
      "outputs": [
        {
          "output_type": "stream",
          "name": "stdout",
          "text": [
            "hello\n",
            "hello\n"
          ]
        }
      ]
    },
    {
      "cell_type": "markdown",
      "source": [
        "**EXAMPLE 11: Methods 'search' and 'match'**"
      ],
      "metadata": {
        "id": "Zz5sOFyBURX1"
      }
    },
    {
      "cell_type": "code",
      "source": [
        "pattern= r\"(?P<word>\\w+)\\s+(?P=word)\"\n",
        "matching = re.search(pattern,\"Only saying hello  hello\")\n",
        "print(matching)\n",
        "\n",
        "matching = re.match(pattern,\"Only saying hello  hello\")\n",
        "print(matching)"
      ],
      "metadata": {
        "colab": {
          "base_uri": "https://localhost:8080/"
        },
        "id": "nrnGaNKLsMqt",
        "outputId": "39fda645-a239-45e6-8f1b-96a6ef1fd1fb"
      },
      "execution_count": 16,
      "outputs": [
        {
          "output_type": "stream",
          "name": "stdout",
          "text": [
            "<re.Match object; span=(12, 24), match='hello  hello'>\n",
            "None\n"
          ]
        }
      ]
    },
    {
      "cell_type": "markdown",
      "source": [
        "**EXAMPLE 12: Methods and Flags in Compiled Regular Expressions**"
      ],
      "metadata": {
        "id": "ng-y3fABUomS"
      }
    },
    {
      "cell_type": "code",
      "source": [
        "text = \"\"\"Hello World!\n",
        "This is a test.\n",
        "HELLO again.\"\"\"\n",
        "\n",
        "# Compile a regex pattern with multiple flags: IGNORECASE and MULTILINE\n",
        "pattern = re.compile(r\"^hello\", re.IGNORECASE | re.MULTILINE)\n",
        "\n",
        "# Checks if the pattern matches the beginning of the string\n",
        "match_result = pattern.match(text)\n",
        "\n",
        "# Finds the first occurrence of the pattern anywhere in the string\n",
        "search_result = pattern.search(text)\n",
        "\n",
        "# Finds all substrings matching the pattern and returns them as a list\n",
        "findall_result = pattern.findall(text)\n",
        "\n",
        "\n",
        "# Returns an iterator of match objects for all matches in the string\n",
        "finditer_result = pattern.finditer(text)\n",
        "for match in finditer_result:\n",
        "    print(f\"finditer(): Found '{match.group()}' at position {match.start()}\")\n",
        "\n",
        "# Using DOTALL flag to match across newlines\n",
        "dotall_pattern = re.compile(r\"Hello.*again\", re.DOTALL)\n",
        "dotall_match = dotall_pattern.search(text)\n",
        "if dotall_match:\n",
        "    print(f\"DOTALL flag: Found '{dotall_match.group()}' across newlines.\")\n",
        "\n",
        "# Using VERBOSE flag to write readable regular expressions with comments\n",
        "verbose_pattern = re.compile(r\"\"\"\n",
        "    ^       # start of the line\n",
        "    hello   # match 'hello'\n",
        "\"\"\", re.IGNORECASE | re.VERBOSE | re.MULTILINE)\n",
        "\n",
        "verbose_search = verbose_pattern.search(text)\n",
        "if verbose_search:\n",
        "    print(f\"VERBOSE flag: Found '{verbose_search.group()}' with comments.\")"
      ],
      "metadata": {
        "colab": {
          "base_uri": "https://localhost:8080/"
        },
        "id": "iS3bK-ckxNt4",
        "outputId": "ec1cb771-59f6-4c70-b116-c001d361ad6e"
      },
      "execution_count": 17,
      "outputs": [
        {
          "output_type": "stream",
          "name": "stdout",
          "text": [
            "finditer(): Found 'Hello' at position 0\n",
            "finditer(): Found 'HELLO' at position 29\n",
            "DOTALL flag: Found 'Hello World!\n",
            "This is a test.\n",
            "HELLO again' across newlines.\n",
            "VERBOSE flag: Found 'Hello' with comments.\n"
          ]
        }
      ]
    },
    {
      "cell_type": "markdown",
      "source": [
        "**EXAMPLE 13: Modifying Sequence with Regular Expressions**"
      ],
      "metadata": {
        "id": "eGpAlpoHU3iO"
      }
    },
    {
      "cell_type": "code",
      "source": [
        "pattern = re.compile(r\",\")\n",
        "result = pattern.split(\"apple,banana,orange\")\n",
        "print(result)\n",
        "\n",
        "pattern = re.compile(r\"\\d+\")\n",
        "result = pattern.sub(\"number\", \"hello 123 world 456\")\n",
        "print(result)\n",
        "\n",
        "pattern = re.compile(r\"\\d+\")\n",
        "result, count = pattern.subn(\"number\", \"hello 123 world 456\")\n",
        "print(result)\n",
        "print(count)"
      ],
      "metadata": {
        "colab": {
          "base_uri": "https://localhost:8080/"
        },
        "id": "0AVYro0mvq4F",
        "outputId": "d18da275-4f9a-4196-d93d-dbaf2642a4c5"
      },
      "execution_count": 18,
      "outputs": [
        {
          "output_type": "stream",
          "name": "stdout",
          "text": [
            "['apple', 'banana', 'orange']\n",
            "hello number world number\n",
            "hello number world number\n",
            "2\n"
          ]
        }
      ]
    }
  ]
}