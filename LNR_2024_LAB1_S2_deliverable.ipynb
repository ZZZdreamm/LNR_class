{
 "cells": [
  {
   "cell_type": "markdown",
   "metadata": {
    "colab": {
     "base_uri": "https://localhost:8080/"
    },
    "id": "9262-7pIAfJ9",
    "outputId": "ad32b9b2-ad72-4683-8709-e31a0d38fa5b"
   },
   "source": [
    "<h1 align=\"center\">LAB1S1_p2. Preprocessing and Traditional\n",
    "Language Representation using scikit-learn\n",
    "tools</h1>\n",
    "\n",
    "<h3 style=\"display:block; margin-top:5px;\" align=\"center\">Natural Language and Information Retrieval</h3>\n",
    "<h3 style=\"display:block; margin-top:5px;\" align=\"center\">Degree in Data Science</h3>\n",
    "<h3 style=\"display:block; margin-top:5px;\" align=\"center\">2024-2025</h3>    \n",
    "<h3 style=\"display:block; margin-top:5px;\" align=\"center\">ETSInf. Universitat Politècnica de València</h3>\n",
    "<br>"
   ]
  },
  {
   "cell_type": "code",
   "execution_count": null,
   "metadata": {},
   "outputs": [],
   "source": []
  },
  {
   "cell_type": "markdown",
   "metadata": {},
   "source": [
    "### Put your names here\n",
    "\n",
    "- Filip Polacik\n",
    "- Kacper Multan"
   ]
  },
  {
   "cell_type": "code",
   "execution_count": 102,
   "metadata": {},
   "outputs": [],
   "source": [
    "# IF YOU USE GOOGLE COLAB AND WANT READ A FILE\n",
    "#from google.colab import drive\n",
    "#drive.mount('/content/drive')"
   ]
  },
  {
   "cell_type": "markdown",
   "metadata": {},
   "source": [
    "## Some help, if you need it"
   ]
  },
  {
   "cell_type": "code",
   "execution_count": 103,
   "metadata": {
    "ExecuteTime": {
     "end_time": "2025-02-23T10:53:27.515847Z",
     "start_time": "2025-02-23T10:53:27.355058Z"
    }
   },
   "outputs": [],
   "source": [
    "from nltk.book import texts\n",
    "from sklearn.feature_extraction.text import CountVectorizer, TfidfVectorizer, TfidfTransformer\n",
    "from sklearn.decomposition import TruncatedSVD\n",
    "from sklearn.metrics.pairwise import cosine_similarity\n",
    "import pandas as pd\n",
    "import re\n",
    "\n",
    "definition = {\n",
    "    \"a\": \"Bag of Words (binary)\",\n",
    "    \"b\": \"Bag of Words (Term-Frequency) without normalization\",\n",
    "    \"c\": \"Bigrams of Words (Term-Frequency) without normalization\",\n",
    "    \"d\": \"Trigram of Characters (Term-Frequency) without normalization\",\n",
    "    \"e\": \"TF-IDF based on words with 'l2' normalization\",\n",
    "    \"f\": \"LSA based on TF-IDF of words (50 singular values)\",\n",
    "    \"g\": \"LSA based on TF-IDF of words (100 singular values)\"\n",
    "}\n",
    "\n",
    "\n",
    "# !pip install pandas\n",
    "# !pip install nltk\n",
    "# !pip install scikit-learn"
   ]
  },
  {
   "cell_type": "markdown",
   "metadata": {},
   "source": [
    "## Load de dataset"
   ]
  },
  {
   "cell_type": "code",
   "execution_count": 104,
   "metadata": {
    "ExecuteTime": {
     "end_time": "2025-02-23T10:53:53.847204Z",
     "start_time": "2025-02-23T10:53:53.807651Z"
    }
   },
   "outputs": [],
   "source": [
    "filename = \"EXIST2024_EN_examples.csv\"\n",
    "\n",
    "import csv\n",
    "\n",
    "class CSVReader:\n",
    "    def __init__(self, file_path):\n",
    "        self.file_path = file_path\n",
    "        self.data = []\n",
    "\n",
    "    def read_csv(self):\n",
    "        with open(self.file_path, mode='r', encoding='utf-8') as file:\n",
    "            reader = csv.DictReader(file, delimiter='\\t')\n",
    "            for row in reader:\n",
    "                self.data.append({\n",
    "                    \"id\": int(row[\"id\"]),\n",
    "                    \"text\": row[\"text\"],\n",
    "                    \"is_sexist\": row[\"label\"].strip().upper() == \"YES\",\n",
    "                    \"size\": int(row[\"size\"])\n",
    "                })\n",
    "\n",
    "    def get_data(self):\n",
    "        return self.data\n",
    "\n",
    "reader = CSVReader(filename)\n",
    "reader.read_csv()"
   ]
  },
  {
   "cell_type": "markdown",
   "metadata": {},
   "source": [
    "## Preprocess dataset"
   ]
  },
  {
   "cell_type": "code",
   "execution_count": 105,
   "metadata": {
    "ExecuteTime": {
     "end_time": "2025-02-23T10:53:57.684165Z",
     "start_time": "2025-02-23T10:53:57.654607Z"
    }
   },
   "outputs": [],
   "source": [
    "filename = \"EXIST2024_EN_examples.csv\"\n",
    "\n",
    "import re\n",
    "\n",
    "web_re = re.compile(r\"https?:\\/\\/[^\\s]+\", re.U)\n",
    "\n",
    "def preprocess(text):\n",
    "    text = web_re.sub(\"\", text)\n",
    "    text = text.lower()\n",
    "    return text\n",
    "\n",
    "for tweet in reader.get_data():\n",
    "    tweet[\"text\"] = preprocess(tweet[\"text\"])"
   ]
  },
  {
   "cell_type": "code",
   "execution_count": 106,
   "metadata": {
    "ExecuteTime": {
     "end_time": "2025-02-23T11:49:54.745209Z",
     "start_time": "2025-02-23T11:49:54.738244Z"
    }
   },
   "outputs": [],
   "source": [
    "from sklearn.feature_extraction.text import CountVectorizer\n",
    "\n",
    "def compute_similarity(corpus, bow, sexist):\n",
    "    cosine_sim = cosine_similarity(bow)\n",
    "    maxi = 0\n",
    "    max_ind = 0, 0\n",
    "\n",
    "    for x in range(len(cosine_sim)):\n",
    "        for y in range(len(cosine_sim[x])):\n",
    "            if x != y:\n",
    "                if cosine_sim[x][y] > maxi:\n",
    "                    maxi = cosine_sim[x][y]\n",
    "                    max_ind = x, y\n",
    "\n",
    "    print(max_ind)\n",
    "    tweet1, tweet2 = corpus[max_ind[0]], corpus[max_ind[1]]\n",
    "    if sexist:\n",
    "        print(f\"Most similar sexist tweets:\\n1: {tweet1}\\n2: {tweet2}\")\n",
    "        print(f\"Cosine Similarity: {cosine_sim[max_ind[0]][max_ind[1]]:.4f}\")\n",
    "    else:\n",
    "        print(f\"Most similar non sexist tweets:\\n1: {tweet1}\\n2: {tweet2}\")\n",
    "        print(f\"Cosine Similarity: {cosine_sim[max_ind[0]][max_ind[1]]:.4f}\")"
   ]
  },
  {
   "cell_type": "markdown",
   "metadata": {},
   "source": [
    "### Binary"
   ]
  },
  {
   "cell_type": "code",
   "execution_count": 107,
   "metadata": {
    "ExecuteTime": {
     "end_time": "2025-02-23T11:46:41.054605Z",
     "start_time": "2025-02-23T11:46:39.231003Z"
    }
   },
   "outputs": [
    {
     "name": "stdout",
     "output_type": "stream",
     "text": [
      "Vocabulary size for binary:  6715\n",
      "(1095, 1098)\n",
      "Most similar sexist tweets:\n",
      "1: @yayroger @victoriarossi @ionaguyf @metsdaddy2013 @byandrewwagner @themikebpeters dr. cox, does this shade of red make me look like a clown?no barbie. it makes you look like a prostitute who caters exclusively to clowns.\n",
      "2: sharon: oh, loki, does this lipstick make me look like a clown?loki: no, barbie, no... it makes you look like a prostitute who caters exclusively *to* clowns.\n",
      "Cosine Similarity: 0.7126\n",
      "--------------------------------\n",
      "Vocabulary size for binary:  10601\n",
      "(872, 873)\n",
      "Most similar non sexist tweets:\n",
      "1: ♫ now playing : treat her like a lady (single version) by the temptations  \n",
      "2: now playing:  the temptations - treat her like a lady   listen live: \n",
      "Cosine Similarity: 0.7628\n"
     ]
    }
   ],
   "source": [
    "\n",
    "\n",
    "MyCorpus_sexist = [tweet[\"text\"] for tweet in reader.get_data() if tweet[\"is_sexist\"]]\n",
    "MyCorpus_nonsexist = [tweet[\"text\"] for tweet in reader.get_data() if not tweet[\"is_sexist\"]]\n",
    "\n",
    "vectorizer_bin = CountVectorizer(binary= True)\n",
    "vectorizer_bin.fit(MyCorpus_sexist)\n",
    "X_bag_of_words_bin = vectorizer_bin.transform(MyCorpus_sexist)\n",
    "print(\"Vocabulary size for binary: \", len(vectorizer_bin.vocabulary_))\n",
    "\n",
    "compute_similarity(MyCorpus_sexist, X_bag_of_words_bin, True)\n",
    "\n",
    "print(\"--------------------------------\")\n",
    "vectorizer_bin = CountVectorizer(binary= True)\n",
    "vectorizer_bin.fit(MyCorpus_nonsexist)\n",
    "X_bag_of_words_bin = vectorizer_bin.transform(MyCorpus_nonsexist)\n",
    "print(\"Vocabulary size for binary: \", len(vectorizer_bin.vocabulary_))\n",
    "\n",
    "compute_similarity(MyCorpus_nonsexist, X_bag_of_words_bin, False)\n"
   ]
  },
  {
   "cell_type": "markdown",
   "metadata": {},
   "source": [
    "### Bag of Words (Term-Frequency)"
   ]
  },
  {
   "cell_type": "code",
   "execution_count": 108,
   "metadata": {
    "ExecuteTime": {
     "end_time": "2025-02-23T11:38:51.800448Z",
     "start_time": "2025-02-23T11:38:49.730648Z"
    }
   },
   "outputs": [
    {
     "name": "stdout",
     "output_type": "stream",
     "text": [
      "Vocabulary size for frequency:  6715\n",
      "(1095, 1098)\n",
      "Most similar sexist tweets:\n",
      "1: @yayroger @victoriarossi @ionaguyf @metsdaddy2013 @byandrewwagner @themikebpeters dr. cox, does this shade of red make me look like a clown?no barbie. it makes you look like a prostitute who caters exclusively to clowns.\n",
      "2: sharon: oh, loki, does this lipstick make me look like a clown?loki: no, barbie, no... it makes you look like a prostitute who caters exclusively *to* clowns.\n",
      "Cosine Similarity: 0.7247\n",
      "--------------------------------\n",
      "Vocabulary size for frequency:  10601\n",
      "(635, 639)\n",
      "Most similar non sexist tweets:\n",
      "1: @bleedthisway replay free woman breebylon &gt;&gt;&gt; flop this way\n",
      "2: replay&gt;alice&gt;babylon&gt;free woman \n",
      "Cosine Similarity: 0.7778\n"
     ]
    }
   ],
   "source": [
    "vectorizer_freq = CountVectorizer(binary= False)\n",
    "vectorizer_freq.fit(MyCorpus_sexist)\n",
    "X_bag_of_words_freq = vectorizer_freq.transform(MyCorpus_sexist)\n",
    "print(\"Vocabulary size for frequency: \", len(vectorizer_freq.vocabulary_))\n",
    "\n",
    "compute_similarity(MyCorpus_sexist, X_bag_of_words_freq, True)\n",
    "\n",
    "print(\"--------------------------------\")\n",
    "vectorizer_freq = CountVectorizer(binary= False)\n",
    "vectorizer_freq.fit(MyCorpus_nonsexist)\n",
    "X_bag_of_words_freq = vectorizer_freq.transform(MyCorpus_nonsexist)\n",
    "print(\"Vocabulary size for frequency: \", len(vectorizer_freq.vocabulary_))\n",
    "\n",
    "compute_similarity(MyCorpus_nonsexist, X_bag_of_words_freq, False)"
   ]
  },
  {
   "cell_type": "markdown",
   "metadata": {},
   "source": [
    "### Bigram of Words (Term-Frequency)"
   ]
  },
  {
   "cell_type": "code",
   "execution_count": 109,
   "metadata": {
    "ExecuteTime": {
     "end_time": "2025-02-23T12:07:41.380337Z",
     "start_time": "2025-02-23T12:07:39.784026Z"
    }
   },
   "outputs": [
    {
     "name": "stdout",
     "output_type": "stream",
     "text": [
      "Vocabulary size for sexist bigrams of words:  13970\n",
      "(1093, 1102)\n",
      "Most similar sexist tweets:\n",
      "1: \"this boy you look like a prostitute\" \n",
      "2: pov you look like a prostitute and have to go to a quince\n",
      "Cosine Similarity: 0.5774\n",
      "--------------------------------\n",
      "Vocabulary size for non sexist bigrams of words:  22424\n",
      "(1253, 1263)\n",
      "Most similar non sexist tweets:\n",
      "1: @jennfrey must be based on the bem sex role inventory and\n",
      "2: bem sex role inventory is a problematic tool\n",
      "Cosine Similarity: 0.6000\n"
     ]
    }
   ],
   "source": [
    "bigram_vectorizer = CountVectorizer(analyzer='word',\n",
    "                        ngram_range=(2,2),binary=False, stop_words=\"english\")\n",
    "\n",
    "counts = bigram_vectorizer.fit_transform(MyCorpus_sexist)\n",
    "print(\"Vocabulary size for sexist bigrams of words: \", len(bigram_vectorizer.vocabulary_))\n",
    "compute_similarity(MyCorpus_sexist, counts, True)\n",
    "\n",
    "print(\"--------------------------------\")\n",
    "counts = bigram_vectorizer.fit_transform(MyCorpus_nonsexist)\n",
    "print(\"Vocabulary size for non sexist bigrams of words: \", len(bigram_vectorizer.vocabulary_))\n",
    "compute_similarity(MyCorpus_nonsexist, counts, False)\n",
    "\n"
   ]
  },
  {
   "cell_type": "markdown",
   "metadata": {},
   "source": [
    "### Trigram"
   ]
  },
  {
   "cell_type": "code",
   "execution_count": 110,
   "metadata": {
    "ExecuteTime": {
     "end_time": "2025-02-23T12:07:43.126596Z",
     "start_time": "2025-02-23T12:07:41.391477Z"
    }
   },
   "outputs": [
    {
     "name": "stdout",
     "output_type": "stream",
     "text": [
      "Vocabulary size for trigrams of words:  13947\n",
      "(1095, 1098)\n",
      "Most similar sexist tweets:\n",
      "1: @yayroger @victoriarossi @ionaguyf @metsdaddy2013 @byandrewwagner @themikebpeters dr. cox, does this shade of red make me look like a clown?no barbie. it makes you look like a prostitute who caters exclusively to clowns.\n",
      "2: sharon: oh, loki, does this lipstick make me look like a clown?loki: no, barbie, no... it makes you look like a prostitute who caters exclusively *to* clowns.\n",
      "Cosine Similarity: 0.4364\n",
      "--------------------------------\n",
      "Vocabulary size for non sexist trigrams of words:  21607\n",
      "(1253, 1263)\n",
      "Most similar non sexist tweets:\n",
      "1: @jennfrey must be based on the bem sex role inventory and\n",
      "2: bem sex role inventory is a problematic tool\n",
      "Cosine Similarity: 0.5000\n"
     ]
    }
   ],
   "source": [
    "trigram_vectorizer = CountVectorizer(analyzer='word',\n",
    "                        ngram_range=(3,3),binary=False, stop_words=\"english\")\n",
    "\n",
    "counts = trigram_vectorizer.fit_transform(MyCorpus_sexist)\n",
    "print(\"Vocabulary size for trigrams of words: \", len(trigram_vectorizer.vocabulary_))\n",
    "compute_similarity(MyCorpus_sexist, counts, True)\n",
    "\n",
    "print(\"--------------------------------\")\n",
    "counts = trigram_vectorizer.fit_transform(MyCorpus_nonsexist)\n",
    "print(\"Vocabulary size for non sexist trigrams of words: \", len(trigram_vectorizer.vocabulary_))\n",
    "compute_similarity(MyCorpus_nonsexist, counts, False)"
   ]
  },
  {
   "cell_type": "markdown",
   "metadata": {},
   "source": [
    "### TF-IDF"
   ]
  },
  {
   "cell_type": "code",
   "execution_count": 111,
   "metadata": {},
   "outputs": [
    {
     "name": "stdout",
     "output_type": "stream",
     "text": [
      "TF-IDF sexist: (1130, 6457)\n",
      "(96, 628)\n",
      "Most similar sexist tweets:\n",
      "1: @davidwa41615213 blah blah…she writes as good as a man…blah blah\n",
      "2: @olisaosega another one wey dey always vex me for this app na when person talk say \"men do this...\" \"women do this....\"\"blah blah blah does this...\" someone will come it \"some men, not all men\" etc. like they are trying so desperately to not get (oppose) the message\n",
      "Cosine Similarity: 0.5611\n",
      "--------------------------------\n",
      "TF-IDF non-sexist: (1722, 10329)\n",
      "(635, 639)\n",
      "Most similar non sexist tweets:\n",
      "1: @bleedthisway replay free woman breebylon &gt;&gt;&gt; flop this way\n",
      "2: replay&gt;alice&gt;babylon&gt;free woman \n",
      "Cosine Similarity: 0.7430\n"
     ]
    }
   ],
   "source": [
    "from sklearn.feature_extraction.text import CountVectorizer\n",
    "from sklearn.feature_extraction.text import TfidfTransformer\n",
    "\n",
    "counter = CountVectorizer(stop_words=\"english\",binary=False)\n",
    "tfidf = TfidfTransformer(norm=\"l2\")\n",
    "\n",
    "# Sexist tweets\n",
    "dtMatrix_sexist = counter.fit_transform(MyCorpus_sexist).toarray()\n",
    "tfidfMatrix_sexist = tfidf.fit_transform(dtMatrix_sexist).toarray()\n",
    "\n",
    "print(\"TF-IDF sexist:\", tfidfMatrix_sexist.shape)\n",
    "compute_similarity(MyCorpus_sexist, tfidfMatrix_sexist, True)\n",
    "\n",
    "print(\"--------------------------------\")\n",
    "\n",
    "# Non-sexist tweets\n",
    "dtMatrix_nonsexist = counter.fit_transform(MyCorpus_nonsexist).toarray()\n",
    "tfidfMatrix_nonsexist = tfidf.fit_transform(dtMatrix_nonsexist).toarray()\n",
    "\n",
    "print(\"TF-IDF non-sexist:\", tfidfMatrix_nonsexist.shape)\n",
    "compute_similarity(MyCorpus_nonsexist, tfidfMatrix_nonsexist, False)"
   ]
  },
  {
   "cell_type": "markdown",
   "metadata": {},
   "source": [
    "### LSA 50 components"
   ]
  },
  {
   "cell_type": "code",
   "execution_count": 112,
   "metadata": {
    "ExecuteTime": {
     "end_time": "2025-02-23T12:07:51.705540Z",
     "start_time": "2025-02-23T12:07:43.139349Z"
    }
   },
   "outputs": [
    {
     "name": "stdout",
     "output_type": "stream",
     "text": [
      "After LSA for sexist tweets (LSA for 50 representation): (1130, 50)\n",
      "(395, 398)\n",
      "Most similar sexist tweets:\n",
      "1: lollll fuck that cunt ahahhaha \n",
      "2: fuck that cunt get joffy on \n",
      "Cosine Similarity: 0.9999\n",
      "--------------------------------\n",
      "After LSA for non-sexist tweets (LSA for 50 representation): (1722, 50)\n",
      "(255, 262)\n",
      "Most similar non sexist tweets:\n",
      "1: @sliturguts @inhumanew4ste cant boss hairs soakin\n",
      "2: @manutd ralf rangnick 🙏 be our boss \n",
      "Cosine Similarity: 1.0000\n"
     ]
    }
   ],
   "source": [
    "from sklearn.feature_extraction.text import CountVectorizer\n",
    "from sklearn.feature_extraction.text import TfidfTransformer\n",
    "from sklearn.decomposition import TruncatedSVD\n",
    "\n",
    "counter = CountVectorizer(stop_words=\"english\",binary=False)\n",
    "tfidf = TfidfTransformer(norm=\"l2\")\n",
    "svd = TruncatedSVD(n_components = 50)\n",
    "\n",
    "# Sexist tweets\n",
    "dtMatrix_sexist = counter.fit_transform(MyCorpus_sexist).toarray()\n",
    "tfidfMatrix_sexist = tfidf.fit_transform(dtMatrix_sexist).toarray()\n",
    "svdMatrix_sexist = svd.fit_transform(tfidfMatrix_sexist)\n",
    "\n",
    "print(\"After LSA for sexist tweets (LSA for 50 representation):\", svdMatrix_sexist.shape)\n",
    "compute_similarity(MyCorpus_sexist, svdMatrix_sexist, True)\n",
    "\n",
    "print(\"--------------------------------\")\n",
    "\n",
    "# Non-sexist tweets\n",
    "dtMatrix_nonsexist = counter.fit_transform(MyCorpus_nonsexist).toarray()\n",
    "tfidfMatrix_nonsexist = tfidf.fit_transform(dtMatrix_nonsexist).toarray()\n",
    "svdMatrix_nonsexist = svd.fit_transform(tfidfMatrix_nonsexist)\n",
    "\n",
    "print(\"After LSA for non-sexist tweets (LSA for 50 representation):\", svdMatrix_nonsexist.shape)\n",
    "compute_similarity(MyCorpus_nonsexist, svdMatrix_nonsexist, False)\n"
   ]
  },
  {
   "cell_type": "markdown",
   "metadata": {},
   "source": [
    "### LSA 100 components"
   ]
  },
  {
   "cell_type": "code",
   "execution_count": 113,
   "metadata": {
    "ExecuteTime": {
     "end_time": "2025-02-23T12:31:06.503095Z",
     "start_time": "2025-02-23T12:30:58.654399Z"
    }
   },
   "outputs": [
    {
     "name": "stdout",
     "output_type": "stream",
     "text": [
      "After LSA for sexist tweets (LSA for 100 representation): (1130, 100)\n",
      "(395, 398)\n",
      "Most similar sexist tweets:\n",
      "1: lollll fuck that cunt ahahhaha \n",
      "2: fuck that cunt get joffy on \n",
      "Cosine Similarity: 0.9996\n",
      "--------------------------------\n",
      "After LSA for non-sexist tweets (LSA for 100 representation): (1722, 100)\n",
      "(255, 262)\n",
      "Most similar non sexist tweets:\n",
      "1: @sliturguts @inhumanew4ste cant boss hairs soakin\n",
      "2: @manutd ralf rangnick 🙏 be our boss \n",
      "Cosine Similarity: 0.9998\n"
     ]
    }
   ],
   "source": [
    "from sklearn.feature_extraction.text import CountVectorizer\n",
    "from sklearn.feature_extraction.text import TfidfTransformer\n",
    "from sklearn.decomposition import TruncatedSVD\n",
    "\n",
    "counter = CountVectorizer(stop_words=\"english\",binary=False)\n",
    "tfidf = TfidfTransformer(norm=\"l2\")\n",
    "svd = TruncatedSVD(n_components = 100)\n",
    "\n",
    "# Sexist tweets\n",
    "dtMatrix_sexist = counter.fit_transform(MyCorpus_sexist).toarray()\n",
    "tfidfMatrix_sexist = tfidf.fit_transform(dtMatrix_sexist).toarray()\n",
    "svdMatrix_sexist = svd.fit_transform(tfidfMatrix_sexist)\n",
    "\n",
    "print(\"After LSA for sexist tweets (LSA for 100 representation):\", svdMatrix_sexist.shape)\n",
    "compute_similarity(MyCorpus_sexist, svdMatrix_sexist, True, )\n",
    "\n",
    "print(\"--------------------------------\")\n",
    "\n",
    "# Non-sexist tweets\n",
    "dtMatrix_nonsexist = counter.fit_transform(MyCorpus_nonsexist).toarray()\n",
    "tfidfMatrix_nonsexist = tfidf.fit_transform(dtMatrix_nonsexist).toarray()\n",
    "svdMatrix_nonsexist = svd.fit_transform(tfidfMatrix_nonsexist)\n",
    "\n",
    "print(\"After LSA for non-sexist tweets (LSA for 100 representation):\", svdMatrix_nonsexist.shape)\n",
    "compute_similarity(MyCorpus_nonsexist, svdMatrix_nonsexist, False)\n"
   ]
  }
 ],
 "metadata": {
  "colab": {
   "provenance": []
  },
  "kernelspec": {
   "display_name": "Python 3",
   "language": "python",
   "name": "python3"
  },
  "language_info": {
   "codemirror_mode": {
    "name": "ipython",
    "version": 3
   },
   "file_extension": ".py",
   "mimetype": "text/x-python",
   "name": "python",
   "nbconvert_exporter": "python",
   "pygments_lexer": "ipython3",
   "version": "3.8.10"
  },
  "widgets": {
   "application/vnd.jupyter.widget-state+json": {
    "340d102a08614a90a28c0ed4353bf6b9": {
     "model_module": "@jupyter-widgets/controls",
     "model_module_version": "1.5.0",
     "model_name": "HTMLModel",
     "state": {
      "_dom_classes": [],
      "_model_module": "@jupyter-widgets/controls",
      "_model_module_version": "1.5.0",
      "_model_name": "HTMLModel",
      "_view_count": null,
      "_view_module": "@jupyter-widgets/controls",
      "_view_module_version": "1.5.0",
      "_view_name": "HTMLView",
      "description": "",
      "description_tooltip": null,
      "layout": "IPY_MODEL_39154bfcf09c4371a9e6a9030d0d7619",
      "placeholder": "​",
      "style": "IPY_MODEL_9321306bb1154d18aed8d9c163af3f64",
      "value": "Downloading https://raw.githubusercontent.com/stanfordnlp/stanza-resources/main/resources_1.8.0.json: "
     }
    },
    "386ad7d665d74ba28e8160f9a573db1a": {
     "model_module": "@jupyter-widgets/base",
     "model_module_version": "1.2.0",
     "model_name": "LayoutModel",
     "state": {
      "_model_module": "@jupyter-widgets/base",
      "_model_module_version": "1.2.0",
      "_model_name": "LayoutModel",
      "_view_count": null,
      "_view_module": "@jupyter-widgets/base",
      "_view_module_version": "1.2.0",
      "_view_name": "LayoutView",
      "align_content": null,
      "align_items": null,
      "align_self": null,
      "border": null,
      "bottom": null,
      "display": null,
      "flex": null,
      "flex_flow": null,
      "grid_area": null,
      "grid_auto_columns": null,
      "grid_auto_flow": null,
      "grid_auto_rows": null,
      "grid_column": null,
      "grid_gap": null,
      "grid_row": null,
      "grid_template_areas": null,
      "grid_template_columns": null,
      "grid_template_rows": null,
      "height": null,
      "justify_content": null,
      "justify_items": null,
      "left": null,
      "margin": null,
      "max_height": null,
      "max_width": null,
      "min_height": null,
      "min_width": null,
      "object_fit": null,
      "object_position": null,
      "order": null,
      "overflow": null,
      "overflow_x": null,
      "overflow_y": null,
      "padding": null,
      "right": null,
      "top": null,
      "visibility": null,
      "width": null
     }
    },
    "39154bfcf09c4371a9e6a9030d0d7619": {
     "model_module": "@jupyter-widgets/base",
     "model_module_version": "1.2.0",
     "model_name": "LayoutModel",
     "state": {
      "_model_module": "@jupyter-widgets/base",
      "_model_module_version": "1.2.0",
      "_model_name": "LayoutModel",
      "_view_count": null,
      "_view_module": "@jupyter-widgets/base",
      "_view_module_version": "1.2.0",
      "_view_name": "LayoutView",
      "align_content": null,
      "align_items": null,
      "align_self": null,
      "border": null,
      "bottom": null,
      "display": null,
      "flex": null,
      "flex_flow": null,
      "grid_area": null,
      "grid_auto_columns": null,
      "grid_auto_flow": null,
      "grid_auto_rows": null,
      "grid_column": null,
      "grid_gap": null,
      "grid_row": null,
      "grid_template_areas": null,
      "grid_template_columns": null,
      "grid_template_rows": null,
      "height": null,
      "justify_content": null,
      "justify_items": null,
      "left": null,
      "margin": null,
      "max_height": null,
      "max_width": null,
      "min_height": null,
      "min_width": null,
      "object_fit": null,
      "object_position": null,
      "order": null,
      "overflow": null,
      "overflow_x": null,
      "overflow_y": null,
      "padding": null,
      "right": null,
      "top": null,
      "visibility": null,
      "width": null
     }
    },
    "3f2fce909eb140c395516911294f90fc": {
     "model_module": "@jupyter-widgets/controls",
     "model_module_version": "1.5.0",
     "model_name": "HTMLModel",
     "state": {
      "_dom_classes": [],
      "_model_module": "@jupyter-widgets/controls",
      "_model_module_version": "1.5.0",
      "_model_name": "HTMLModel",
      "_view_count": null,
      "_view_module": "@jupyter-widgets/controls",
      "_view_module_version": "1.5.0",
      "_view_name": "HTMLView",
      "description": "",
      "description_tooltip": null,
      "layout": "IPY_MODEL_893e1e04454f437f9191705bff255e49",
      "placeholder": "​",
      "style": "IPY_MODEL_71ddb9c9049e46faa8a76c1ea9039698",
      "value": " 373k/? [00:00&lt;00:00, 15.3MB/s]"
     }
    },
    "455b4341e017404097260e19892f850d": {
     "model_module": "@jupyter-widgets/base",
     "model_module_version": "1.2.0",
     "model_name": "LayoutModel",
     "state": {
      "_model_module": "@jupyter-widgets/base",
      "_model_module_version": "1.2.0",
      "_model_name": "LayoutModel",
      "_view_count": null,
      "_view_module": "@jupyter-widgets/base",
      "_view_module_version": "1.2.0",
      "_view_name": "LayoutView",
      "align_content": null,
      "align_items": null,
      "align_self": null,
      "border": null,
      "bottom": null,
      "display": null,
      "flex": null,
      "flex_flow": null,
      "grid_area": null,
      "grid_auto_columns": null,
      "grid_auto_flow": null,
      "grid_auto_rows": null,
      "grid_column": null,
      "grid_gap": null,
      "grid_row": null,
      "grid_template_areas": null,
      "grid_template_columns": null,
      "grid_template_rows": null,
      "height": null,
      "justify_content": null,
      "justify_items": null,
      "left": null,
      "margin": null,
      "max_height": null,
      "max_width": null,
      "min_height": null,
      "min_width": null,
      "object_fit": null,
      "object_position": null,
      "order": null,
      "overflow": null,
      "overflow_x": null,
      "overflow_y": null,
      "padding": null,
      "right": null,
      "top": null,
      "visibility": null,
      "width": null
     }
    },
    "4ac9f11d690d4bdd81dc4ed80a30fe9d": {
     "model_module": "@jupyter-widgets/controls",
     "model_module_version": "1.5.0",
     "model_name": "ProgressStyleModel",
     "state": {
      "_model_module": "@jupyter-widgets/controls",
      "_model_module_version": "1.5.0",
      "_model_name": "ProgressStyleModel",
      "_view_count": null,
      "_view_module": "@jupyter-widgets/base",
      "_view_module_version": "1.2.0",
      "_view_name": "StyleView",
      "bar_color": null,
      "description_width": ""
     }
    },
    "4e1ad0b1368d4d49ad003386f56c9e8b": {
     "model_module": "@jupyter-widgets/controls",
     "model_module_version": "1.5.0",
     "model_name": "HTMLModel",
     "state": {
      "_dom_classes": [],
      "_model_module": "@jupyter-widgets/controls",
      "_model_module_version": "1.5.0",
      "_model_name": "HTMLModel",
      "_view_count": null,
      "_view_module": "@jupyter-widgets/controls",
      "_view_module_version": "1.5.0",
      "_view_name": "HTMLView",
      "description": "",
      "description_tooltip": null,
      "layout": "IPY_MODEL_951e51fdbd25497c96062b51ed563469",
      "placeholder": "​",
      "style": "IPY_MODEL_ce641fbe1e02480fa2599b1ab1b34f0b",
      "value": "Downloading https://raw.githubusercontent.com/stanfordnlp/stanza-resources/main/resources_1.8.0.json: "
     }
    },
    "64af3edc75924055aa7146b16814a082": {
     "model_module": "@jupyter-widgets/controls",
     "model_module_version": "1.5.0",
     "model_name": "HBoxModel",
     "state": {
      "_dom_classes": [],
      "_model_module": "@jupyter-widgets/controls",
      "_model_module_version": "1.5.0",
      "_model_name": "HBoxModel",
      "_view_count": null,
      "_view_module": "@jupyter-widgets/controls",
      "_view_module_version": "1.5.0",
      "_view_name": "HBoxView",
      "box_style": "",
      "children": [
       "IPY_MODEL_340d102a08614a90a28c0ed4353bf6b9",
       "IPY_MODEL_a2e80236860a40eeafdc19e1079f6f47",
       "IPY_MODEL_b40ab137b7014943bf068b836158fc1d"
      ],
      "layout": "IPY_MODEL_d0b7774f1d5a491ca6467f0a0d03a37e"
     }
    },
    "7186150a68064cf4a5d8a815b3818f26": {
     "model_module": "@jupyter-widgets/controls",
     "model_module_version": "1.5.0",
     "model_name": "HBoxModel",
     "state": {
      "_dom_classes": [],
      "_model_module": "@jupyter-widgets/controls",
      "_model_module_version": "1.5.0",
      "_model_name": "HBoxModel",
      "_view_count": null,
      "_view_module": "@jupyter-widgets/controls",
      "_view_module_version": "1.5.0",
      "_view_name": "HBoxView",
      "box_style": "",
      "children": [
       "IPY_MODEL_4e1ad0b1368d4d49ad003386f56c9e8b",
       "IPY_MODEL_a5206c2955e24a7ab0827674af948c95",
       "IPY_MODEL_3f2fce909eb140c395516911294f90fc"
      ],
      "layout": "IPY_MODEL_455b4341e017404097260e19892f850d"
     }
    },
    "71ddb9c9049e46faa8a76c1ea9039698": {
     "model_module": "@jupyter-widgets/controls",
     "model_module_version": "1.5.0",
     "model_name": "DescriptionStyleModel",
     "state": {
      "_model_module": "@jupyter-widgets/controls",
      "_model_module_version": "1.5.0",
      "_model_name": "DescriptionStyleModel",
      "_view_count": null,
      "_view_module": "@jupyter-widgets/base",
      "_view_module_version": "1.2.0",
      "_view_name": "StyleView",
      "description_width": ""
     }
    },
    "81700e4287c04bfda5b476594bafc7eb": {
     "model_module": "@jupyter-widgets/base",
     "model_module_version": "1.2.0",
     "model_name": "LayoutModel",
     "state": {
      "_model_module": "@jupyter-widgets/base",
      "_model_module_version": "1.2.0",
      "_model_name": "LayoutModel",
      "_view_count": null,
      "_view_module": "@jupyter-widgets/base",
      "_view_module_version": "1.2.0",
      "_view_name": "LayoutView",
      "align_content": null,
      "align_items": null,
      "align_self": null,
      "border": null,
      "bottom": null,
      "display": null,
      "flex": null,
      "flex_flow": null,
      "grid_area": null,
      "grid_auto_columns": null,
      "grid_auto_flow": null,
      "grid_auto_rows": null,
      "grid_column": null,
      "grid_gap": null,
      "grid_row": null,
      "grid_template_areas": null,
      "grid_template_columns": null,
      "grid_template_rows": null,
      "height": null,
      "justify_content": null,
      "justify_items": null,
      "left": null,
      "margin": null,
      "max_height": null,
      "max_width": null,
      "min_height": null,
      "min_width": null,
      "object_fit": null,
      "object_position": null,
      "order": null,
      "overflow": null,
      "overflow_x": null,
      "overflow_y": null,
      "padding": null,
      "right": null,
      "top": null,
      "visibility": null,
      "width": null
     }
    },
    "893e1e04454f437f9191705bff255e49": {
     "model_module": "@jupyter-widgets/base",
     "model_module_version": "1.2.0",
     "model_name": "LayoutModel",
     "state": {
      "_model_module": "@jupyter-widgets/base",
      "_model_module_version": "1.2.0",
      "_model_name": "LayoutModel",
      "_view_count": null,
      "_view_module": "@jupyter-widgets/base",
      "_view_module_version": "1.2.0",
      "_view_name": "LayoutView",
      "align_content": null,
      "align_items": null,
      "align_self": null,
      "border": null,
      "bottom": null,
      "display": null,
      "flex": null,
      "flex_flow": null,
      "grid_area": null,
      "grid_auto_columns": null,
      "grid_auto_flow": null,
      "grid_auto_rows": null,
      "grid_column": null,
      "grid_gap": null,
      "grid_row": null,
      "grid_template_areas": null,
      "grid_template_columns": null,
      "grid_template_rows": null,
      "height": null,
      "justify_content": null,
      "justify_items": null,
      "left": null,
      "margin": null,
      "max_height": null,
      "max_width": null,
      "min_height": null,
      "min_width": null,
      "object_fit": null,
      "object_position": null,
      "order": null,
      "overflow": null,
      "overflow_x": null,
      "overflow_y": null,
      "padding": null,
      "right": null,
      "top": null,
      "visibility": null,
      "width": null
     }
    },
    "9321306bb1154d18aed8d9c163af3f64": {
     "model_module": "@jupyter-widgets/controls",
     "model_module_version": "1.5.0",
     "model_name": "DescriptionStyleModel",
     "state": {
      "_model_module": "@jupyter-widgets/controls",
      "_model_module_version": "1.5.0",
      "_model_name": "DescriptionStyleModel",
      "_view_count": null,
      "_view_module": "@jupyter-widgets/base",
      "_view_module_version": "1.2.0",
      "_view_name": "StyleView",
      "description_width": ""
     }
    },
    "94a1aa3198e644e788e76b00f6f79a5f": {
     "model_module": "@jupyter-widgets/base",
     "model_module_version": "1.2.0",
     "model_name": "LayoutModel",
     "state": {
      "_model_module": "@jupyter-widgets/base",
      "_model_module_version": "1.2.0",
      "_model_name": "LayoutModel",
      "_view_count": null,
      "_view_module": "@jupyter-widgets/base",
      "_view_module_version": "1.2.0",
      "_view_name": "LayoutView",
      "align_content": null,
      "align_items": null,
      "align_self": null,
      "border": null,
      "bottom": null,
      "display": null,
      "flex": null,
      "flex_flow": null,
      "grid_area": null,
      "grid_auto_columns": null,
      "grid_auto_flow": null,
      "grid_auto_rows": null,
      "grid_column": null,
      "grid_gap": null,
      "grid_row": null,
      "grid_template_areas": null,
      "grid_template_columns": null,
      "grid_template_rows": null,
      "height": null,
      "justify_content": null,
      "justify_items": null,
      "left": null,
      "margin": null,
      "max_height": null,
      "max_width": null,
      "min_height": null,
      "min_width": null,
      "object_fit": null,
      "object_position": null,
      "order": null,
      "overflow": null,
      "overflow_x": null,
      "overflow_y": null,
      "padding": null,
      "right": null,
      "top": null,
      "visibility": null,
      "width": null
     }
    },
    "951e51fdbd25497c96062b51ed563469": {
     "model_module": "@jupyter-widgets/base",
     "model_module_version": "1.2.0",
     "model_name": "LayoutModel",
     "state": {
      "_model_module": "@jupyter-widgets/base",
      "_model_module_version": "1.2.0",
      "_model_name": "LayoutModel",
      "_view_count": null,
      "_view_module": "@jupyter-widgets/base",
      "_view_module_version": "1.2.0",
      "_view_name": "LayoutView",
      "align_content": null,
      "align_items": null,
      "align_self": null,
      "border": null,
      "bottom": null,
      "display": null,
      "flex": null,
      "flex_flow": null,
      "grid_area": null,
      "grid_auto_columns": null,
      "grid_auto_flow": null,
      "grid_auto_rows": null,
      "grid_column": null,
      "grid_gap": null,
      "grid_row": null,
      "grid_template_areas": null,
      "grid_template_columns": null,
      "grid_template_rows": null,
      "height": null,
      "justify_content": null,
      "justify_items": null,
      "left": null,
      "margin": null,
      "max_height": null,
      "max_width": null,
      "min_height": null,
      "min_width": null,
      "object_fit": null,
      "object_position": null,
      "order": null,
      "overflow": null,
      "overflow_x": null,
      "overflow_y": null,
      "padding": null,
      "right": null,
      "top": null,
      "visibility": null,
      "width": null
     }
    },
    "a2e80236860a40eeafdc19e1079f6f47": {
     "model_module": "@jupyter-widgets/controls",
     "model_module_version": "1.5.0",
     "model_name": "FloatProgressModel",
     "state": {
      "_dom_classes": [],
      "_model_module": "@jupyter-widgets/controls",
      "_model_module_version": "1.5.0",
      "_model_name": "FloatProgressModel",
      "_view_count": null,
      "_view_module": "@jupyter-widgets/controls",
      "_view_module_version": "1.5.0",
      "_view_name": "ProgressView",
      "bar_style": "success",
      "description": "",
      "description_tooltip": null,
      "layout": "IPY_MODEL_386ad7d665d74ba28e8160f9a573db1a",
      "max": 46416,
      "min": 0,
      "orientation": "horizontal",
      "style": "IPY_MODEL_4ac9f11d690d4bdd81dc4ed80a30fe9d",
      "value": 46416
     }
    },
    "a5206c2955e24a7ab0827674af948c95": {
     "model_module": "@jupyter-widgets/controls",
     "model_module_version": "1.5.0",
     "model_name": "FloatProgressModel",
     "state": {
      "_dom_classes": [],
      "_model_module": "@jupyter-widgets/controls",
      "_model_module_version": "1.5.0",
      "_model_name": "FloatProgressModel",
      "_view_count": null,
      "_view_module": "@jupyter-widgets/controls",
      "_view_module_version": "1.5.0",
      "_view_name": "ProgressView",
      "bar_style": "success",
      "description": "",
      "description_tooltip": null,
      "layout": "IPY_MODEL_94a1aa3198e644e788e76b00f6f79a5f",
      "max": 46416,
      "min": 0,
      "orientation": "horizontal",
      "style": "IPY_MODEL_e7b6942a2abf4ff9a8f59704571da33c",
      "value": 46416
     }
    },
    "b40ab137b7014943bf068b836158fc1d": {
     "model_module": "@jupyter-widgets/controls",
     "model_module_version": "1.5.0",
     "model_name": "HTMLModel",
     "state": {
      "_dom_classes": [],
      "_model_module": "@jupyter-widgets/controls",
      "_model_module_version": "1.5.0",
      "_model_name": "HTMLModel",
      "_view_count": null,
      "_view_module": "@jupyter-widgets/controls",
      "_view_module_version": "1.5.0",
      "_view_name": "HTMLView",
      "description": "",
      "description_tooltip": null,
      "layout": "IPY_MODEL_81700e4287c04bfda5b476594bafc7eb",
      "placeholder": "​",
      "style": "IPY_MODEL_b9ca8dcce91243258546d0c1a48fac23",
      "value": " 373k/? [00:00&lt;00:00, 12.2MB/s]"
     }
    },
    "b9ca8dcce91243258546d0c1a48fac23": {
     "model_module": "@jupyter-widgets/controls",
     "model_module_version": "1.5.0",
     "model_name": "DescriptionStyleModel",
     "state": {
      "_model_module": "@jupyter-widgets/controls",
      "_model_module_version": "1.5.0",
      "_model_name": "DescriptionStyleModel",
      "_view_count": null,
      "_view_module": "@jupyter-widgets/base",
      "_view_module_version": "1.2.0",
      "_view_name": "StyleView",
      "description_width": ""
     }
    },
    "ce641fbe1e02480fa2599b1ab1b34f0b": {
     "model_module": "@jupyter-widgets/controls",
     "model_module_version": "1.5.0",
     "model_name": "DescriptionStyleModel",
     "state": {
      "_model_module": "@jupyter-widgets/controls",
      "_model_module_version": "1.5.0",
      "_model_name": "DescriptionStyleModel",
      "_view_count": null,
      "_view_module": "@jupyter-widgets/base",
      "_view_module_version": "1.2.0",
      "_view_name": "StyleView",
      "description_width": ""
     }
    },
    "d0b7774f1d5a491ca6467f0a0d03a37e": {
     "model_module": "@jupyter-widgets/base",
     "model_module_version": "1.2.0",
     "model_name": "LayoutModel",
     "state": {
      "_model_module": "@jupyter-widgets/base",
      "_model_module_version": "1.2.0",
      "_model_name": "LayoutModel",
      "_view_count": null,
      "_view_module": "@jupyter-widgets/base",
      "_view_module_version": "1.2.0",
      "_view_name": "LayoutView",
      "align_content": null,
      "align_items": null,
      "align_self": null,
      "border": null,
      "bottom": null,
      "display": null,
      "flex": null,
      "flex_flow": null,
      "grid_area": null,
      "grid_auto_columns": null,
      "grid_auto_flow": null,
      "grid_auto_rows": null,
      "grid_column": null,
      "grid_gap": null,
      "grid_row": null,
      "grid_template_areas": null,
      "grid_template_columns": null,
      "grid_template_rows": null,
      "height": null,
      "justify_content": null,
      "justify_items": null,
      "left": null,
      "margin": null,
      "max_height": null,
      "max_width": null,
      "min_height": null,
      "min_width": null,
      "object_fit": null,
      "object_position": null,
      "order": null,
      "overflow": null,
      "overflow_x": null,
      "overflow_y": null,
      "padding": null,
      "right": null,
      "top": null,
      "visibility": null,
      "width": null
     }
    },
    "e7b6942a2abf4ff9a8f59704571da33c": {
     "model_module": "@jupyter-widgets/controls",
     "model_module_version": "1.5.0",
     "model_name": "ProgressStyleModel",
     "state": {
      "_model_module": "@jupyter-widgets/controls",
      "_model_module_version": "1.5.0",
      "_model_name": "ProgressStyleModel",
      "_view_count": null,
      "_view_module": "@jupyter-widgets/base",
      "_view_module_version": "1.2.0",
      "_view_name": "StyleView",
      "bar_color": null,
      "description_width": ""
     }
    }
   }
  }
 },
 "nbformat": 4,
 "nbformat_minor": 4
}
