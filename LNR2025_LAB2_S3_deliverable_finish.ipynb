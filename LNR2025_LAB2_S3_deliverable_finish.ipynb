{
  "cells": [
    {
      "cell_type": "markdown",
      "metadata": {
        "id": "9pY2x6TJTxZ7"
      },
      "source": [
        "<h1 align=\"center\">Lab 2:  Sexism Identification in Twitter</h1>\n",
        "<h2 align=\"center\">Session 3. Transformers: Fine-tuning for multi-label classification\n",
        "<h3 style=\"display:block; margin-top:5px;\" align=\"center\">Natural Language and Information Retrieval</h3>\n",
        "<h3 style=\"display:block; margin-top:5px;\" align=\"center\">Degree in Data Science</h3>\n",
        "<h3 style=\"display:block; margin-top:5px;\" align=\"center\">2024-2025</h3>    \n",
        "<h3 style=\"display:block; margin-top:5px;\" align=\"center\">ETSInf. Universitat Politècnica de València</h3>\n",
        "<br>"
      ]
    },
    {
      "cell_type": "markdown",
      "metadata": {
        "id": "wv5aDZKaTxZ9"
      },
      "source": [
        "### Put your names here\n",
        "\n",
        "- Kacper Multan\n",
        "- Filip Polacik"
      ]
    },
    {
      "cell_type": "code",
      "execution_count": 1,
      "metadata": {
        "colab": {
          "base_uri": "https://localhost:8080/"
        },
        "id": "2Xc4hisRSCXf",
        "outputId": "8e0820ff-459f-46fb-ee36-8de8b52ff9c8"
      },
      "outputs": [
        {
          "output_type": "stream",
          "name": "stdout",
          "text": [
            "Requirement already satisfied: transformers in /usr/local/lib/python3.11/dist-packages (4.51.3)\n",
            "Requirement already satisfied: filelock in /usr/local/lib/python3.11/dist-packages (from transformers) (3.18.0)\n",
            "Requirement already satisfied: huggingface-hub<1.0,>=0.30.0 in /usr/local/lib/python3.11/dist-packages (from transformers) (0.30.2)\n",
            "Requirement already satisfied: numpy>=1.17 in /usr/local/lib/python3.11/dist-packages (from transformers) (1.26.4)\n",
            "Requirement already satisfied: packaging>=20.0 in /usr/local/lib/python3.11/dist-packages (from transformers) (24.2)\n",
            "Requirement already satisfied: pyyaml>=5.1 in /usr/local/lib/python3.11/dist-packages (from transformers) (6.0.2)\n",
            "Requirement already satisfied: regex!=2019.12.17 in /usr/local/lib/python3.11/dist-packages (from transformers) (2024.11.6)\n",
            "Requirement already satisfied: requests in /usr/local/lib/python3.11/dist-packages (from transformers) (2.32.3)\n",
            "Requirement already satisfied: tokenizers<0.22,>=0.21 in /usr/local/lib/python3.11/dist-packages (from transformers) (0.21.1)\n",
            "Requirement already satisfied: safetensors>=0.4.3 in /usr/local/lib/python3.11/dist-packages (from transformers) (0.5.3)\n",
            "Requirement already satisfied: tqdm>=4.27 in /usr/local/lib/python3.11/dist-packages (from transformers) (4.67.1)\n",
            "Requirement already satisfied: fsspec>=2023.5.0 in /usr/local/lib/python3.11/dist-packages (from huggingface-hub<1.0,>=0.30.0->transformers) (2024.12.0)\n",
            "Requirement already satisfied: typing-extensions>=3.7.4.3 in /usr/local/lib/python3.11/dist-packages (from huggingface-hub<1.0,>=0.30.0->transformers) (4.13.1)\n",
            "Requirement already satisfied: charset-normalizer<4,>=2 in /usr/local/lib/python3.11/dist-packages (from requests->transformers) (3.4.1)\n",
            "Requirement already satisfied: idna<4,>=2.5 in /usr/local/lib/python3.11/dist-packages (from requests->transformers) (3.10)\n",
            "Requirement already satisfied: urllib3<3,>=1.21.1 in /usr/local/lib/python3.11/dist-packages (from requests->transformers) (2.3.0)\n",
            "Requirement already satisfied: certifi>=2017.4.17 in /usr/local/lib/python3.11/dist-packages (from requests->transformers) (2025.1.31)\n",
            "Requirement already satisfied: datasets in /usr/local/lib/python3.11/dist-packages (3.5.0)\n",
            "Requirement already satisfied: accelerate in /usr/local/lib/python3.11/dist-packages (1.5.2)\n",
            "Requirement already satisfied: filelock in /usr/local/lib/python3.11/dist-packages (from datasets) (3.18.0)\n",
            "Requirement already satisfied: numpy>=1.17 in /usr/local/lib/python3.11/dist-packages (from datasets) (1.26.4)\n",
            "Requirement already satisfied: pyarrow>=15.0.0 in /usr/local/lib/python3.11/dist-packages (from datasets) (18.1.0)\n",
            "Requirement already satisfied: dill<0.3.9,>=0.3.0 in /usr/local/lib/python3.11/dist-packages (from datasets) (0.3.8)\n",
            "Requirement already satisfied: pandas in /usr/local/lib/python3.11/dist-packages (from datasets) (2.2.3)\n",
            "Requirement already satisfied: requests>=2.32.2 in /usr/local/lib/python3.11/dist-packages (from datasets) (2.32.3)\n",
            "Requirement already satisfied: tqdm>=4.66.3 in /usr/local/lib/python3.11/dist-packages (from datasets) (4.67.1)\n",
            "Requirement already satisfied: xxhash in /usr/local/lib/python3.11/dist-packages (from datasets) (3.5.0)\n",
            "Requirement already satisfied: multiprocess<0.70.17 in /usr/local/lib/python3.11/dist-packages (from datasets) (0.70.16)\n",
            "Requirement already satisfied: fsspec<=2024.12.0,>=2023.1.0 in /usr/local/lib/python3.11/dist-packages (from fsspec[http]<=2024.12.0,>=2023.1.0->datasets) (2024.12.0)\n",
            "Requirement already satisfied: aiohttp in /usr/local/lib/python3.11/dist-packages (from datasets) (3.11.15)\n",
            "Requirement already satisfied: huggingface-hub>=0.24.0 in /usr/local/lib/python3.11/dist-packages (from datasets) (0.30.2)\n",
            "Requirement already satisfied: packaging in /usr/local/lib/python3.11/dist-packages (from datasets) (24.2)\n",
            "Requirement already satisfied: pyyaml>=5.1 in /usr/local/lib/python3.11/dist-packages (from datasets) (6.0.2)\n",
            "Requirement already satisfied: psutil in /usr/local/lib/python3.11/dist-packages (from accelerate) (5.9.5)\n",
            "Requirement already satisfied: torch>=2.0.0 in /usr/local/lib/python3.11/dist-packages (from accelerate) (2.6.0+cu124)\n",
            "Requirement already satisfied: safetensors>=0.4.3 in /usr/local/lib/python3.11/dist-packages (from accelerate) (0.5.3)\n",
            "Requirement already satisfied: aiohappyeyeballs>=2.3.0 in /usr/local/lib/python3.11/dist-packages (from aiohttp->datasets) (2.6.1)\n",
            "Requirement already satisfied: aiosignal>=1.1.2 in /usr/local/lib/python3.11/dist-packages (from aiohttp->datasets) (1.3.2)\n",
            "Requirement already satisfied: attrs>=17.3.0 in /usr/local/lib/python3.11/dist-packages (from aiohttp->datasets) (25.3.0)\n",
            "Requirement already satisfied: frozenlist>=1.1.1 in /usr/local/lib/python3.11/dist-packages (from aiohttp->datasets) (1.5.0)\n",
            "Requirement already satisfied: multidict<7.0,>=4.5 in /usr/local/lib/python3.11/dist-packages (from aiohttp->datasets) (6.4.2)\n",
            "Requirement already satisfied: propcache>=0.2.0 in /usr/local/lib/python3.11/dist-packages (from aiohttp->datasets) (0.3.1)\n",
            "Requirement already satisfied: yarl<2.0,>=1.17.0 in /usr/local/lib/python3.11/dist-packages (from aiohttp->datasets) (1.19.0)\n",
            "Requirement already satisfied: typing-extensions>=3.7.4.3 in /usr/local/lib/python3.11/dist-packages (from huggingface-hub>=0.24.0->datasets) (4.13.1)\n",
            "Requirement already satisfied: charset-normalizer<4,>=2 in /usr/local/lib/python3.11/dist-packages (from requests>=2.32.2->datasets) (3.4.1)\n",
            "Requirement already satisfied: idna<4,>=2.5 in /usr/local/lib/python3.11/dist-packages (from requests>=2.32.2->datasets) (3.10)\n",
            "Requirement already satisfied: urllib3<3,>=1.21.1 in /usr/local/lib/python3.11/dist-packages (from requests>=2.32.2->datasets) (2.3.0)\n",
            "Requirement already satisfied: certifi>=2017.4.17 in /usr/local/lib/python3.11/dist-packages (from requests>=2.32.2->datasets) (2025.1.31)\n",
            "Requirement already satisfied: networkx in /usr/local/lib/python3.11/dist-packages (from torch>=2.0.0->accelerate) (3.4.2)\n",
            "Requirement already satisfied: jinja2 in /usr/local/lib/python3.11/dist-packages (from torch>=2.0.0->accelerate) (3.1.6)\n",
            "Requirement already satisfied: nvidia-cuda-nvrtc-cu12==12.4.127 in /usr/local/lib/python3.11/dist-packages (from torch>=2.0.0->accelerate) (12.4.127)\n",
            "Requirement already satisfied: nvidia-cuda-runtime-cu12==12.4.127 in /usr/local/lib/python3.11/dist-packages (from torch>=2.0.0->accelerate) (12.4.127)\n",
            "Requirement already satisfied: nvidia-cuda-cupti-cu12==12.4.127 in /usr/local/lib/python3.11/dist-packages (from torch>=2.0.0->accelerate) (12.4.127)\n",
            "Requirement already satisfied: nvidia-cudnn-cu12==9.1.0.70 in /usr/local/lib/python3.11/dist-packages (from torch>=2.0.0->accelerate) (9.1.0.70)\n",
            "Requirement already satisfied: nvidia-cublas-cu12==12.4.5.8 in /usr/local/lib/python3.11/dist-packages (from torch>=2.0.0->accelerate) (12.4.5.8)\n",
            "Requirement already satisfied: nvidia-cufft-cu12==11.2.1.3 in /usr/local/lib/python3.11/dist-packages (from torch>=2.0.0->accelerate) (11.2.1.3)\n",
            "Requirement already satisfied: nvidia-curand-cu12==10.3.5.147 in /usr/local/lib/python3.11/dist-packages (from torch>=2.0.0->accelerate) (10.3.5.147)\n",
            "Requirement already satisfied: nvidia-cusolver-cu12==11.6.1.9 in /usr/local/lib/python3.11/dist-packages (from torch>=2.0.0->accelerate) (11.6.1.9)\n",
            "Requirement already satisfied: nvidia-cusparse-cu12==12.3.1.170 in /usr/local/lib/python3.11/dist-packages (from torch>=2.0.0->accelerate) (12.3.1.170)\n",
            "Requirement already satisfied: nvidia-cusparselt-cu12==0.6.2 in /usr/local/lib/python3.11/dist-packages (from torch>=2.0.0->accelerate) (0.6.2)\n",
            "Requirement already satisfied: nvidia-nccl-cu12==2.21.5 in /usr/local/lib/python3.11/dist-packages (from torch>=2.0.0->accelerate) (2.21.5)\n",
            "Requirement already satisfied: nvidia-nvtx-cu12==12.4.127 in /usr/local/lib/python3.11/dist-packages (from torch>=2.0.0->accelerate) (12.4.127)\n",
            "Requirement already satisfied: nvidia-nvjitlink-cu12==12.4.127 in /usr/local/lib/python3.11/dist-packages (from torch>=2.0.0->accelerate) (12.4.127)\n",
            "Requirement already satisfied: triton==3.2.0 in /usr/local/lib/python3.11/dist-packages (from torch>=2.0.0->accelerate) (3.2.0)\n",
            "Requirement already satisfied: sympy==1.13.1 in /usr/local/lib/python3.11/dist-packages (from torch>=2.0.0->accelerate) (1.13.1)\n",
            "Requirement already satisfied: mpmath<1.4,>=1.1.0 in /usr/local/lib/python3.11/dist-packages (from sympy==1.13.1->torch>=2.0.0->accelerate) (1.3.0)\n",
            "Requirement already satisfied: python-dateutil>=2.8.2 in /usr/local/lib/python3.11/dist-packages (from pandas->datasets) (2.8.2)\n",
            "Requirement already satisfied: pytz>=2020.1 in /usr/local/lib/python3.11/dist-packages (from pandas->datasets) (2025.2)\n",
            "Requirement already satisfied: tzdata>=2022.7 in /usr/local/lib/python3.11/dist-packages (from pandas->datasets) (2025.2)\n",
            "Requirement already satisfied: six>=1.5 in /usr/local/lib/python3.11/dist-packages (from python-dateutil>=2.8.2->pandas->datasets) (1.17.0)\n",
            "Requirement already satisfied: MarkupSafe>=2.0 in /usr/local/lib/python3.11/dist-packages (from jinja2->torch>=2.0.0->accelerate) (3.0.2)\n",
            "Requirement already satisfied: PyEvALL in /usr/local/lib/python3.11/dist-packages (0.1.78)\n",
            "Requirement already satisfied: jsbeautifier==1.14.9 in /usr/local/lib/python3.11/dist-packages (from PyEvALL) (1.14.9)\n",
            "Requirement already satisfied: jsonschema==4.23.0 in /usr/local/lib/python3.11/dist-packages (from PyEvALL) (4.23.0)\n",
            "Requirement already satisfied: numpy==1.26.4 in /usr/local/lib/python3.11/dist-packages (from PyEvALL) (1.26.4)\n",
            "Requirement already satisfied: pandas==2.2.3 in /usr/local/lib/python3.11/dist-packages (from PyEvALL) (2.2.3)\n",
            "Requirement already satisfied: setuptools==69.5.1 in /usr/local/lib/python3.11/dist-packages (from PyEvALL) (69.5.1)\n",
            "Requirement already satisfied: tabulate==0.9.0 in /usr/local/lib/python3.11/dist-packages (from PyEvALL) (0.9.0)\n",
            "Requirement already satisfied: six>=1.13.0 in /usr/local/lib/python3.11/dist-packages (from jsbeautifier==1.14.9->PyEvALL) (1.17.0)\n",
            "Requirement already satisfied: editorconfig>=0.12.2 in /usr/local/lib/python3.11/dist-packages (from jsbeautifier==1.14.9->PyEvALL) (0.17.0)\n",
            "Requirement already satisfied: attrs>=22.2.0 in /usr/local/lib/python3.11/dist-packages (from jsonschema==4.23.0->PyEvALL) (25.3.0)\n",
            "Requirement already satisfied: jsonschema-specifications>=2023.03.6 in /usr/local/lib/python3.11/dist-packages (from jsonschema==4.23.0->PyEvALL) (2024.10.1)\n",
            "Requirement already satisfied: referencing>=0.28.4 in /usr/local/lib/python3.11/dist-packages (from jsonschema==4.23.0->PyEvALL) (0.36.2)\n",
            "Requirement already satisfied: rpds-py>=0.7.1 in /usr/local/lib/python3.11/dist-packages (from jsonschema==4.23.0->PyEvALL) (0.24.0)\n",
            "Requirement already satisfied: python-dateutil>=2.8.2 in /usr/local/lib/python3.11/dist-packages (from pandas==2.2.3->PyEvALL) (2.8.2)\n",
            "Requirement already satisfied: pytz>=2020.1 in /usr/local/lib/python3.11/dist-packages (from pandas==2.2.3->PyEvALL) (2025.2)\n",
            "Requirement already satisfied: tzdata>=2022.7 in /usr/local/lib/python3.11/dist-packages (from pandas==2.2.3->PyEvALL) (2025.2)\n",
            "Requirement already satisfied: typing-extensions>=4.4.0 in /usr/local/lib/python3.11/dist-packages (from referencing>=0.28.4->jsonschema==4.23.0->PyEvALL) (4.13.1)\n",
            "Requirement already satisfied: scikit-learn in /usr/local/lib/python3.11/dist-packages (1.6.1)\n",
            "Requirement already satisfied: numpy>=1.19.5 in /usr/local/lib/python3.11/dist-packages (from scikit-learn) (1.26.4)\n",
            "Requirement already satisfied: scipy>=1.6.0 in /usr/local/lib/python3.11/dist-packages (from scikit-learn) (1.14.1)\n",
            "Requirement already satisfied: joblib>=1.2.0 in /usr/local/lib/python3.11/dist-packages (from scikit-learn) (1.4.2)\n",
            "Requirement already satisfied: threadpoolctl>=3.1.0 in /usr/local/lib/python3.11/dist-packages (from scikit-learn) (3.6.0)\n",
            "Requirement already satisfied: peft in /usr/local/lib/python3.11/dist-packages (0.14.0)\n",
            "Requirement already satisfied: numpy>=1.17 in /usr/local/lib/python3.11/dist-packages (from peft) (1.26.4)\n",
            "Requirement already satisfied: packaging>=20.0 in /usr/local/lib/python3.11/dist-packages (from peft) (24.2)\n",
            "Requirement already satisfied: psutil in /usr/local/lib/python3.11/dist-packages (from peft) (5.9.5)\n",
            "Requirement already satisfied: pyyaml in /usr/local/lib/python3.11/dist-packages (from peft) (6.0.2)\n",
            "Requirement already satisfied: torch>=1.13.0 in /usr/local/lib/python3.11/dist-packages (from peft) (2.6.0+cu124)\n",
            "Requirement already satisfied: transformers in /usr/local/lib/python3.11/dist-packages (from peft) (4.51.3)\n",
            "Requirement already satisfied: tqdm in /usr/local/lib/python3.11/dist-packages (from peft) (4.67.1)\n",
            "Requirement already satisfied: accelerate>=0.21.0 in /usr/local/lib/python3.11/dist-packages (from peft) (1.5.2)\n",
            "Requirement already satisfied: safetensors in /usr/local/lib/python3.11/dist-packages (from peft) (0.5.3)\n",
            "Requirement already satisfied: huggingface-hub>=0.25.0 in /usr/local/lib/python3.11/dist-packages (from peft) (0.30.2)\n",
            "Requirement already satisfied: filelock in /usr/local/lib/python3.11/dist-packages (from huggingface-hub>=0.25.0->peft) (3.18.0)\n",
            "Requirement already satisfied: fsspec>=2023.5.0 in /usr/local/lib/python3.11/dist-packages (from huggingface-hub>=0.25.0->peft) (2024.12.0)\n",
            "Requirement already satisfied: requests in /usr/local/lib/python3.11/dist-packages (from huggingface-hub>=0.25.0->peft) (2.32.3)\n",
            "Requirement already satisfied: typing-extensions>=3.7.4.3 in /usr/local/lib/python3.11/dist-packages (from huggingface-hub>=0.25.0->peft) (4.13.1)\n",
            "Requirement already satisfied: networkx in /usr/local/lib/python3.11/dist-packages (from torch>=1.13.0->peft) (3.4.2)\n",
            "Requirement already satisfied: jinja2 in /usr/local/lib/python3.11/dist-packages (from torch>=1.13.0->peft) (3.1.6)\n",
            "Requirement already satisfied: nvidia-cuda-nvrtc-cu12==12.4.127 in /usr/local/lib/python3.11/dist-packages (from torch>=1.13.0->peft) (12.4.127)\n",
            "Requirement already satisfied: nvidia-cuda-runtime-cu12==12.4.127 in /usr/local/lib/python3.11/dist-packages (from torch>=1.13.0->peft) (12.4.127)\n",
            "Requirement already satisfied: nvidia-cuda-cupti-cu12==12.4.127 in /usr/local/lib/python3.11/dist-packages (from torch>=1.13.0->peft) (12.4.127)\n",
            "Requirement already satisfied: nvidia-cudnn-cu12==9.1.0.70 in /usr/local/lib/python3.11/dist-packages (from torch>=1.13.0->peft) (9.1.0.70)\n",
            "Requirement already satisfied: nvidia-cublas-cu12==12.4.5.8 in /usr/local/lib/python3.11/dist-packages (from torch>=1.13.0->peft) (12.4.5.8)\n",
            "Requirement already satisfied: nvidia-cufft-cu12==11.2.1.3 in /usr/local/lib/python3.11/dist-packages (from torch>=1.13.0->peft) (11.2.1.3)\n",
            "Requirement already satisfied: nvidia-curand-cu12==10.3.5.147 in /usr/local/lib/python3.11/dist-packages (from torch>=1.13.0->peft) (10.3.5.147)\n",
            "Requirement already satisfied: nvidia-cusolver-cu12==11.6.1.9 in /usr/local/lib/python3.11/dist-packages (from torch>=1.13.0->peft) (11.6.1.9)\n",
            "Requirement already satisfied: nvidia-cusparse-cu12==12.3.1.170 in /usr/local/lib/python3.11/dist-packages (from torch>=1.13.0->peft) (12.3.1.170)\n",
            "Requirement already satisfied: nvidia-cusparselt-cu12==0.6.2 in /usr/local/lib/python3.11/dist-packages (from torch>=1.13.0->peft) (0.6.2)\n",
            "Requirement already satisfied: nvidia-nccl-cu12==2.21.5 in /usr/local/lib/python3.11/dist-packages (from torch>=1.13.0->peft) (2.21.5)\n",
            "Requirement already satisfied: nvidia-nvtx-cu12==12.4.127 in /usr/local/lib/python3.11/dist-packages (from torch>=1.13.0->peft) (12.4.127)\n",
            "Requirement already satisfied: nvidia-nvjitlink-cu12==12.4.127 in /usr/local/lib/python3.11/dist-packages (from torch>=1.13.0->peft) (12.4.127)\n",
            "Requirement already satisfied: triton==3.2.0 in /usr/local/lib/python3.11/dist-packages (from torch>=1.13.0->peft) (3.2.0)\n",
            "Requirement already satisfied: sympy==1.13.1 in /usr/local/lib/python3.11/dist-packages (from torch>=1.13.0->peft) (1.13.1)\n",
            "Requirement already satisfied: mpmath<1.4,>=1.1.0 in /usr/local/lib/python3.11/dist-packages (from sympy==1.13.1->torch>=1.13.0->peft) (1.3.0)\n",
            "Requirement already satisfied: regex!=2019.12.17 in /usr/local/lib/python3.11/dist-packages (from transformers->peft) (2024.11.6)\n",
            "Requirement already satisfied: tokenizers<0.22,>=0.21 in /usr/local/lib/python3.11/dist-packages (from transformers->peft) (0.21.1)\n",
            "Requirement already satisfied: MarkupSafe>=2.0 in /usr/local/lib/python3.11/dist-packages (from jinja2->torch>=1.13.0->peft) (3.0.2)\n",
            "Requirement already satisfied: charset-normalizer<4,>=2 in /usr/local/lib/python3.11/dist-packages (from requests->huggingface-hub>=0.25.0->peft) (3.4.1)\n",
            "Requirement already satisfied: idna<4,>=2.5 in /usr/local/lib/python3.11/dist-packages (from requests->huggingface-hub>=0.25.0->peft) (3.10)\n",
            "Requirement already satisfied: urllib3<3,>=1.21.1 in /usr/local/lib/python3.11/dist-packages (from requests->huggingface-hub>=0.25.0->peft) (2.3.0)\n",
            "Requirement already satisfied: certifi>=2017.4.17 in /usr/local/lib/python3.11/dist-packages (from requests->huggingface-hub>=0.25.0->peft) (2025.1.31)\n"
          ]
        }
      ],
      "source": [
        " !pip install transformers --upgrade\n",
        " !pip  install datasets accelerate\n",
        " !pip install PyEvALL\n",
        " !pip install scikit-learn\n",
        " !pip install peft\n",
        " #!pip install jupyter --upgrade\n",
        " #!pip install ipywidgets --upgrade"
      ]
    },
    {
      "cell_type": "markdown",
      "metadata": {
        "id": "LBMTOhbPTxZ_"
      },
      "source": [
        "## Many libraries"
      ]
    },
    {
      "cell_type": "code",
      "execution_count": 2,
      "metadata": {
        "id": "0crkRHA5ivAN"
      },
      "outputs": [],
      "source": [
        "import numpy as np\n",
        "import torch\n",
        "from torch.utils.data import Dataset, DataLoader\n",
        "from transformers import  AutoTokenizer, AutoModelForSequenceClassification,  Trainer, TrainingArguments,  EarlyStoppingCallback\n",
        "from sklearn.metrics import accuracy_score, precision_recall_fscore_support\n",
        "from sklearn.preprocessing import MultiLabelBinarizer\n",
        "from sklearn.model_selection import train_test_split\n",
        "import random\n",
        "import os\n",
        "import pandas as pd\n",
        "import sys\n",
        "import tempfile\n",
        "import time\n",
        "\n",
        "#Importing the required modules to use the ICM measure\n",
        "\n",
        "from pyevall.evaluation import PyEvALLEvaluation\n",
        "from pyevall.metrics.metricfactory import MetricFactory\n",
        "from pyevall.reports.reports import PyEvALLReport\n",
        "from pyevall.utils.utils import PyEvALLUtils\n",
        "\n",
        "from functools import partial"
      ]
    },
    {
      "cell_type": "code",
      "execution_count": 3,
      "metadata": {
        "id": "p4-2w1O_VMlq"
      },
      "outputs": [],
      "source": [
        "# IF YOU USE GOOGLE COLAB -> COLAB=True\n",
        "COLAB = True"
      ]
    },
    {
      "cell_type": "code",
      "execution_count": 4,
      "metadata": {
        "colab": {
          "base_uri": "https://localhost:8080/"
        },
        "id": "NdNQeTP1UD7n",
        "outputId": "a31d9a6a-1154-475a-8963-dd67ba6cd00a"
      },
      "outputs": [
        {
          "output_type": "stream",
          "name": "stdout",
          "text": [
            "Mounted at /content/drive\n"
          ]
        }
      ],
      "source": [
        "if COLAB is True:\n",
        "  from google.colab import drive\n",
        "  drive.mount('/content/drive')\n",
        "  base_path = \"/content/drive/MyDrive/LNR/\"\n",
        "else:\n",
        "  base_path = \"../\""
      ]
    },
    {
      "cell_type": "markdown",
      "metadata": {
        "id": "FLdRBXFmTxaA"
      },
      "source": [
        "## Import readerEXIST2025 library"
      ]
    },
    {
      "cell_type": "code",
      "execution_count": 5,
      "metadata": {
        "id": "DqRGK4XOTxaA"
      },
      "outputs": [],
      "source": [
        "library_path = os.path.join(base_path, \"Lab2-S1\")\n",
        "sys.path.append(library_path)\n",
        "!cp /content/drive/MyDrive/Colab\\ Notebooks/readerEXIST2025.py /content\n",
        "!cp /content/drive/MyDrive/Colab\\ Notebooks/EXIST_2025_Dataset_V0.2/EXIST2025_training.json /content\n",
        "!cp /content/drive/MyDrive/Colab\\ Notebooks/EXIST_2025_Dataset_V0.2/EXIST2025_dev.json /content\n",
        "\n",
        "from readerEXIST2025 import EXISTReader"
      ]
    },
    {
      "cell_type": "code",
      "execution_count": 19,
      "metadata": {
        "id": "chPElJ_DPEKK"
      },
      "outputs": [],
      "source": [
        "file_train = os.path.join(\"\", \"EXIST2025_training.json\")\n",
        "file_dev = os.path.join(\"\", \"EXIST2025_dev.json\")\n",
        "\n",
        "reader_train = EXISTReader(file_train)\n",
        "reader_dev = EXISTReader(file_dev)\n",
        "\n",
        "EnTrainTask3, EnDevTask3 = reader_train.get(lang=\"EN\", subtask=\"3\"), reader_dev.get(lang=\"EN\", subtask=\"3\")\n",
        "SpTrainTask3, SpDevTask3 = reader_train.get(lang=\"ES\", subtask=\"3\"), reader_dev.get(lang=\"ES\", subtask=\"3\")"
      ]
    },
    {
      "cell_type": "markdown",
      "metadata": {
        "id": "2i8bBADqn4tl"
      },
      "source": [
        "# Wrapper to compute ICM measure"
      ]
    },
    {
      "cell_type": "code",
      "execution_count": 8,
      "metadata": {
        "id": "dvEF2U0CPJBO"
      },
      "outputs": [],
      "source": [
        "def ICMWrapper(pred, labels, multi=False,ids=None):\n",
        "    test = PyEvALLEvaluation()\n",
        "    metrics=[MetricFactory.ICM.value]\n",
        "    params= dict()\n",
        "    fillLabel=None\n",
        "    if multi:\n",
        "        params[PyEvALLUtils.PARAM_REPORT]=\"embedded\"\n",
        "        hierarchy={\"True\":['IDEOLOGICAL-INEQUALITY', 'STEREOTYPING-DOMINANCE', 'MISOGYNY-NON-SEXUAL-VIOLENCE', 'OBJECTIFICATION', 'SEXUAL-VIOLENCE'],\n",
        "        \"False\":[]}\n",
        "        params[PyEvALLUtils.PARAM_HIERARCHY]=hierarchy\n",
        "        fillLabel = lambda x: [\"False\"] if len(x)== 0 else x\n",
        "    else:\n",
        "        params[PyEvALLUtils.PARAM_REPORT]=\"simple\"\n",
        "        fillLabel = lambda x: str(x)\n",
        "\n",
        "\n",
        "    truth_name, predict_name=None, None\n",
        "    if ids is None:\n",
        "        ids=list(range(len(labels)))\n",
        "\n",
        "    with tempfile.NamedTemporaryFile(mode='w', delete=False, encoding='utf-8') as truth:\n",
        "        truth_name=truth.name\n",
        "        truth_df=pd.DataFrame({'test_case': ['EXIST2025']*len(labels),\n",
        "                        'id': [str(x) for x in ids],\n",
        "                        'value': [fillLabel(x) for x in labels]})\n",
        "        if multi==True:\n",
        "            truth_df=truth_df.astype('object')\n",
        "        truth.write(truth_df.to_json(orient=\"records\"))\n",
        "\n",
        "    with  tempfile.NamedTemporaryFile(mode='w', delete=False) as predict:\n",
        "        predict_name=predict.name\n",
        "        predict_df=pd.DataFrame({'test_case': ['EXIST2025']*len(pred),\n",
        "                        'id': [str(x) for x in ids],\n",
        "                        'value': [fillLabel(x) for x in pred]})\n",
        "        if multi==True:\n",
        "            predict_df=predict_df.astype('object')\n",
        "        predict.write(predict_df.to_json(orient=\"records\"))\n",
        "\n",
        "    report = test.evaluate(predict_name, truth_name, metrics, **params)\n",
        "    os.unlink(truth_name)\n",
        "    os.unlink(predict_name)\n",
        "\n",
        "    icm = None\n",
        "    if 'metrics' in report.report:\n",
        "        if 'ICM' in report.report[\"metrics\"]: icm=float(report.report[\"metrics\"]['ICM'][\"results\"][\"average_per_test_case\"])\n",
        "    return icm\n",
        "\n"
      ]
    },
    {
      "cell_type": "markdown",
      "metadata": {
        "id": "RoysIA2BTxaB"
      },
      "source": [
        "## Set the seed"
      ]
    },
    {
      "cell_type": "code",
      "execution_count": 9,
      "metadata": {
        "id": "h49Be6h_SBLS"
      },
      "outputs": [],
      "source": [
        "def set_seed(seed=1234):\n",
        "    \"\"\"\n",
        "    Sets the seed to make everything deterministic, for reproducibility of experiments\n",
        "    Parameters:\n",
        "    seed: the number to set the seed to\n",
        "    Return: None\n",
        "    \"\"\"\n",
        "    # Random seed\n",
        "    random.seed(seed)\n",
        "    # Numpy seed\n",
        "    np.random.seed(seed)\n",
        "    # Torch seed\n",
        "    torch.manual_seed(seed)\n",
        "    torch.cuda.manual_seed(seed)\n",
        "    torch.backends.cudnn.deterministic = True\n",
        "    torch.backends.cudnn.benchmark = True\n",
        "    # os seed\n",
        "    os.environ['PYTHONHASHSEED'] = str(seed)"
      ]
    },
    {
      "cell_type": "markdown",
      "metadata": {
        "id": "gpdzjIiLTxaC"
      },
      "source": [
        "## Dataset class"
      ]
    },
    {
      "cell_type": "code",
      "execution_count": 22,
      "metadata": {
        "id": "B9h561fvgK2X"
      },
      "outputs": [],
      "source": [
        "class SexismDatasetMulti(Dataset):\n",
        "    def __init__(self, texts, labels, ids, tokenizer, max_len=128, pad=\"max_length\", trunc=True,rt='pt'):\n",
        "        self.texts = texts.tolist()\n",
        "        self.labels = labels\n",
        "        self.ids = ids\n",
        "        self.tokenizer = tokenizer\n",
        "        self.max_len = max_len\n",
        "        self.pad = pad\n",
        "        self.trunc = trunc\n",
        "        self.rt = rt\n",
        "\n",
        "\n",
        "    def __len__(self):\n",
        "        return len(self.texts)\n",
        "\n",
        "    def __getitem__(self, idx):\n",
        "        text = str(self.texts[idx])\n",
        "        inputs = self.tokenizer.encode_plus(\n",
        "            text,\n",
        "            add_special_tokens=True,\n",
        "            max_length=self.max_len,padding=self.pad, truncation=self.trunc,\n",
        "            return_tensors=self.rt\n",
        "        )\n",
        "\n",
        "        return {\n",
        "            'input_ids': inputs['input_ids'].flatten(),\n",
        "            'attention_mask': inputs['attention_mask'].flatten(),\n",
        "            'labels': torch.tensor(self.labels[idx], dtype=torch.float),\n",
        "            'id': torch.tensor(self.ids[idx], dtype=torch.long)}"
      ]
    },
    {
      "cell_type": "markdown",
      "metadata": {
        "id": "Sx9U1QShoIYm"
      },
      "source": [
        "# Metrics for subtask 3"
      ]
    },
    {
      "cell_type": "code",
      "execution_count": 11,
      "metadata": {
        "id": "MTNaq3waoTnC"
      },
      "outputs": [],
      "source": [
        "def compute_metrics_3(pred, lencoder):\n",
        "    labels = pred.label_ids\n",
        "    #preds = pred.predictions.argmax(-1)\n",
        "    preds = torch.sigmoid(torch.tensor(pred.predictions)).numpy()\n",
        "    preds_binary = (preds >= 0.5).astype(int)\n",
        "    precision, recall, f1, _ = precision_recall_fscore_support(\n",
        "        labels, preds_binary, average=None, zero_division=0\n",
        "    )\n",
        "    acc = accuracy_score(labels, preds_binary)\n",
        "    icm= ICMWrapper(lencoder.inverse_transform(preds_binary), lencoder.inverse_transform(labels), multi=True)\n",
        "    # Macro averages\n",
        "    precision_macro = np.mean(precision)\n",
        "    recall_macro = np.mean(recall)\n",
        "    f1_macro = np.mean(f1)\n",
        "    metrics = {}\n",
        "    metrics.update({\n",
        "        'precision_macro': precision_macro,\n",
        "        'recall_macro': recall_macro,\n",
        "        'f1_macro': f1_macro,\n",
        "        'ICM': icm\n",
        "    })\n",
        "    return metrics"
      ]
    },
    {
      "cell_type": "markdown",
      "metadata": {
        "id": "Ou_oVUh-oWiv"
      },
      "source": [
        "# Pipeline"
      ]
    },
    {
      "cell_type": "code",
      "execution_count": 50,
      "metadata": {
        "id": "ZuEYRcDSgeji"
      },
      "outputs": [],
      "source": [
        "def sexism_classification_pipeline_task3(trainInfo, devInfo, testInfo=None, model_name='roberta-base', nlabels=5, ptype=\"multi_label_classification\", **args):\n",
        "    # Model and Tokenizer\n",
        "    labelEnc= MultiLabelBinarizer()\n",
        "    tokenizer = AutoTokenizer.from_pretrained(model_name)\n",
        "    model = AutoModelForSequenceClassification.from_pretrained(\n",
        "        model_name,\n",
        "        num_labels=nlabels,\n",
        "        problem_type=ptype)\n",
        "\n",
        "    train_dataset = SexismDatasetMulti(trainInfo[1], labelEnc.fit_transform(trainInfo[2]),[int(x) for x in trainInfo[0]], tokenizer )\n",
        "    val_dataset = SexismDatasetMulti(devInfo[1], labelEnc.transform(devInfo[2]), [int(x) for x in devInfo[0]], tokenizer)\n",
        "\n",
        "    # Training Arguments\n",
        "    training_args = TrainingArguments(\n",
        "        report_to=\"none\", # alt: \"wandb\", \"tensorboard\" \"comet_ml\" \"mlflow\" \"clearml\"\n",
        "        output_dir= args.get('output_dir', './results'),\n",
        "        num_train_epochs= args.get('num_train_epochs', 5),\n",
        "        learning_rate=args.get('learning_rate', 5e-5),\n",
        "        per_device_train_batch_size=args.get('per_device_train_batch_size', 16),\n",
        "        per_device_eval_batch_size=args.get('per_device_eval_batch_size', 16),\n",
        "        warmup_steps=args.get('warmup_steps', 500),\n",
        "        weight_decay=args.get('weight_decay',0.01),\n",
        "        logging_dir=args.get('logging_dir', './logs'),\n",
        "        logging_steps=args.get('logging_steps', 10),\n",
        "        eval_strategy=args.get('eval_strategy','epoch'),\n",
        "        save_strategy=args.get('save_strategy', \"epoch\"),\n",
        "        save_total_limit=args.get('save_total_limit', 1),\n",
        "        load_best_model_at_end=args.get('load_best_model_at_end', True),\n",
        "        metric_for_best_model=args.get('metric_for_best_model',\"ICM\")\n",
        "    )\n",
        "\n",
        "    # Initialize Trainer\n",
        "    trainer = Trainer(\n",
        "        model=model,\n",
        "        args=training_args,\n",
        "        train_dataset=train_dataset,\n",
        "        eval_dataset=val_dataset,\n",
        "        compute_metrics = partial(compute_metrics_3, lencoder=labelEnc),\n",
        "        callbacks=[EarlyStoppingCallback(early_stopping_patience=args.get(\"early_stopping_patience\",3))]\n",
        "    )\n",
        "\n",
        "    # Fine-tune the model\n",
        "    trainer.train()\n",
        "\n",
        "    # Evaluate on validation set\n",
        "    eval_results = trainer.evaluate()\n",
        "    print(\"Validation Results:\", eval_results)\n",
        "\n",
        "    if testInfo is not None:\n",
        "      # Prepare test dataset for prediction\n",
        "      test_dataset = SexismDatasetMulti(testInfo[1], [[0,0,0,0,0]] * len(testInfo[1]),  [int(x) for x in testInfo[0]],   tokenizer)\n",
        "\n",
        "      # Predict test set labels\n",
        "      predictions = trainer.predict(test_dataset)\n",
        "      #predicted_labels = np.argmax(predictions.predictions, axis=1)\n",
        "      predicted_probs = torch.sigmoid(torch.tensor(predictions.predictions)).numpy()\n",
        "      predicted_labels = (predicted_probs >= 0.5).astype(int)\n",
        "\n",
        "      # Create submission DataFrame\n",
        "      submission_df = pd.DataFrame({\n",
        "          'id': testInfo[0],\n",
        "          'label': labelEnc.inverse_transform(predicted_labels),\n",
        "          \"test_case\": [\"EXIST2025\"]*len(predicted_labels)\n",
        "\n",
        "      })\n",
        "      submission_df.to_csv('sexism_predictions_task3.csv', index=False)\n",
        "      print(\"Prediction TASK3 completed. Results saved to sexism_predictions_task2.csv\")\n",
        "      return model, submission_df\n",
        "    return model, eval_results"
      ]
    },
    {
      "cell_type": "markdown",
      "metadata": {
        "id": "8StUpYLpJOwR"
      },
      "source": [
        "# LoRA pipeline"
      ]
    },
    {
      "cell_type": "code",
      "execution_count": 44,
      "metadata": {
        "id": "UtIoebSoJOwR"
      },
      "outputs": [],
      "source": [
        "from peft import get_peft_model, LoraConfig, TaskType\n",
        "\n",
        "def sexism_classification_pipeline_task3_lora(trainInfo, devInfo, testInfo=None, model_name='roberta-base', nlabels=5, ptype=\"multi_label_classification\", **args):\n",
        "    labelEnc = MultiLabelBinarizer()\n",
        "    tokenizer = AutoTokenizer.from_pretrained(model_name)\n",
        "\n",
        "    base_model = AutoModelForSequenceClassification.from_pretrained(\n",
        "        model_name,\n",
        "        num_labels=nlabels,\n",
        "        problem_type=ptype\n",
        "    )\n",
        "\n",
        "    peft_config = LoraConfig(\n",
        "        task_type=TaskType.SEQ_CLS,\n",
        "        r=args.get('lora_r', 8),\n",
        "        lora_alpha=args.get('lora_alpha', 16),\n",
        "        lora_dropout=args.get('lora_dropout', 0.01),\n",
        "        target_modules=[\"query\", \"value\", \"key\", \"output.dense\"],\n",
        "        bias=\"lora_only\",\n",
        "        modules_to_save=[\"classifier\"]\n",
        "    )\n",
        "\n",
        "    model = get_peft_model(base_model, peft_config)\n",
        "\n",
        "    train_dataset = SexismDatasetMulti(trainInfo[1], labelEnc.fit_transform(trainInfo[2]), [int(x) for x in trainInfo[0]], tokenizer)\n",
        "    val_dataset = SexismDatasetMulti(devInfo[1], labelEnc.transform(devInfo[2]), [int(x) for x in devInfo[0]], tokenizer)\n",
        "\n",
        "    training_args = TrainingArguments(\n",
        "        report_to=\"none\",\n",
        "        output_dir=args.get('output_dir', './results'),\n",
        "        num_train_epochs=args.get('num_train_epochs', 5),\n",
        "        learning_rate=args.get('learning_rate', 5e-4),\n",
        "        per_device_train_batch_size=args.get('per_device_train_batch_size', 16),\n",
        "        per_device_eval_batch_size=args.get('per_device_eval_batch_size', 16),\n",
        "        warmup_steps=args.get('warmup_steps', 500),\n",
        "        weight_decay=args.get('weight_decay', 0.01),\n",
        "        logging_dir=args.get('logging_dir', './logs'),\n",
        "        logging_steps=args.get('logging_steps', 10),\n",
        "        eval_strategy=args.get('eval_strategy', 'epoch'),\n",
        "        save_strategy=args.get('save_strategy', \"epoch\"),\n",
        "        save_total_limit=args.get('save_total_limit', 1),\n",
        "        load_best_model_at_end=args.get('load_best_model_at_end', True),\n",
        "        metric_for_best_model=args.get('metric_for_best_model', \"ICM\")\n",
        "    )\n",
        "\n",
        "    trainer = Trainer(\n",
        "        model=model,\n",
        "        args=training_args,\n",
        "        train_dataset=train_dataset,\n",
        "        eval_dataset=val_dataset,\n",
        "        compute_metrics=partial(compute_metrics_3, lencoder=labelEnc),\n",
        "        callbacks=[EarlyStoppingCallback(early_stopping_patience=args.get(\"early_stopping_patience\", 3))],\n",
        "        data_collator=None\n",
        "    )\n",
        "\n",
        "    trainer.train()\n",
        "    eval_results = trainer.evaluate()\n",
        "    print(\"Validation Results:\", eval_results)\n",
        "\n",
        "    if testInfo is not None:\n",
        "        test_dataset = SexismDatasetMulti(testInfo[1], [[0, 0, 0, 0, 0]] * len(testInfo[1]), [int(x) for x in testInfo[0]], tokenizer)\n",
        "        predictions = trainer.predict(test_dataset)\n",
        "        predicted_probs = torch.sigmoid(torch.tensor(predictions.predictions)).numpy()\n",
        "        predicted_labels = (predicted_probs >= 0.5).astype(int)\n",
        "\n",
        "        submission_df = pd.DataFrame({\n",
        "            'id': testInfo[0],\n",
        "            'label': labelEnc.inverse_transform(predicted_labels),\n",
        "            'test_case': ['EXIST2025'] * len(predicted_labels)\n",
        "        })\n",
        "\n",
        "        submission_df.to_csv('sexism_predictions_task3_lora.csv', index=False)\n",
        "        print(\"Prediction TASK3 with LoRA completed. Results saved to sexism_predictions_task3_lora.csv\")\n",
        "        return model, submission_df\n",
        "\n",
        "    return model, eval_results"
      ]
    },
    {
      "cell_type": "markdown",
      "metadata": {
        "id": "7nds5M1RJOwR"
      },
      "source": [
        "# Experimentation"
      ]
    },
    {
      "cell_type": "code",
      "source": [
        "set_seed()"
      ],
      "metadata": {
        "id": "Ykhm4pkj2EEc"
      },
      "execution_count": 15,
      "outputs": []
    },
    {
      "cell_type": "markdown",
      "metadata": {
        "id": "SBae_YXVJOwR"
      },
      "source": [
        "## Do it in English"
      ]
    },
    {
      "cell_type": "code",
      "execution_count": 51,
      "metadata": {
        "id": "r6TyfehmJOwS",
        "colab": {
          "base_uri": "https://localhost:8080/",
          "height": 466
        },
        "outputId": "6319334f-1944-4e2f-d414-99bc5eb86c69"
      },
      "outputs": [
        {
          "output_type": "stream",
          "name": "stderr",
          "text": [
            "Some weights of BertForSequenceClassification were not initialized from the model checkpoint at bert-base-uncased and are newly initialized: ['classifier.bias', 'classifier.weight']\n",
            "You should probably TRAIN this model on a down-stream task to be able to use it for predictions and inference.\n"
          ]
        },
        {
          "output_type": "display_data",
          "data": {
            "text/plain": [
              "<IPython.core.display.HTML object>"
            ],
            "text/html": [
              "\n",
              "    <div>\n",
              "      \n",
              "      <progress value='524' max='917' style='width:300px; height:20px; vertical-align: middle;'></progress>\n",
              "      [524/917 05:00 < 03:46, 1.73 it/s, Epoch 4/7]\n",
              "    </div>\n",
              "    <table border=\"1\" class=\"dataframe\">\n",
              "  <thead>\n",
              " <tr style=\"text-align: left;\">\n",
              "      <th>Epoch</th>\n",
              "      <th>Training Loss</th>\n",
              "      <th>Validation Loss</th>\n",
              "      <th>Precision Macro</th>\n",
              "      <th>Recall Macro</th>\n",
              "      <th>F1 Macro</th>\n",
              "      <th>Icm</th>\n",
              "    </tr>\n",
              "  </thead>\n",
              "  <tbody>\n",
              "    <tr>\n",
              "      <td>1</td>\n",
              "      <td>0.644200</td>\n",
              "      <td>0.647153</td>\n",
              "      <td>0.592954</td>\n",
              "      <td>0.793043</td>\n",
              "      <td>0.674650</td>\n",
              "      <td>0.013203</td>\n",
              "    </tr>\n",
              "    <tr>\n",
              "      <td>2</td>\n",
              "      <td>0.571400</td>\n",
              "      <td>0.601968</td>\n",
              "      <td>0.755350</td>\n",
              "      <td>0.575161</td>\n",
              "      <td>0.632836</td>\n",
              "      <td>-0.972108</td>\n",
              "    </tr>\n",
              "    <tr>\n",
              "      <td>3</td>\n",
              "      <td>0.542000</td>\n",
              "      <td>0.586524</td>\n",
              "      <td>0.708918</td>\n",
              "      <td>0.677836</td>\n",
              "      <td>0.686959</td>\n",
              "      <td>-0.549724</td>\n",
              "    </tr>\n",
              "    <tr>\n",
              "      <td>4</td>\n",
              "      <td>0.482400</td>\n",
              "      <td>0.589507</td>\n",
              "      <td>0.742172</td>\n",
              "      <td>0.655202</td>\n",
              "      <td>0.689311</td>\n",
              "      <td>-0.307321</td>\n",
              "    </tr>\n",
              "  </tbody>\n",
              "</table><p>"
            ]
          },
          "metadata": {}
        },
        {
          "output_type": "stream",
          "name": "stdout",
          "text": [
            "2025-04-15 21:26:11,153 - pyevall.evaluation - INFO -             evaluate() - Evaluating the following metrics ['ICM']\n",
            "2025-04-15 21:26:11,253 - pyevall.metrics.metrics - INFO -             evaluate() - Executing ICM evaluation method\n",
            "2025-04-15 21:27:15,484 - pyevall.evaluation - INFO -             evaluate() - Evaluating the following metrics ['ICM']\n",
            "2025-04-15 21:27:15,593 - pyevall.metrics.metrics - INFO -             evaluate() - Executing ICM evaluation method\n",
            "2025-04-15 21:28:24,987 - pyevall.evaluation - INFO -             evaluate() - Evaluating the following metrics ['ICM']\n",
            "2025-04-15 21:28:25,049 - pyevall.metrics.metrics - INFO -             evaluate() - Executing ICM evaluation method\n",
            "2025-04-15 21:30:11,952 - pyevall.evaluation - INFO -             evaluate() - Evaluating the following metrics ['ICM']\n",
            "2025-04-15 21:30:12,066 - pyevall.metrics.metrics - INFO -             evaluate() - Executing ICM evaluation method\n"
          ]
        },
        {
          "output_type": "display_data",
          "data": {
            "text/plain": [
              "<IPython.core.display.HTML object>"
            ],
            "text/html": [
              "\n",
              "    <div>\n",
              "      \n",
              "      <progress value='6' max='6' style='width:300px; height:20px; vertical-align: middle;'></progress>\n",
              "      [6/6 00:01]\n",
              "    </div>\n",
              "    "
            ]
          },
          "metadata": {}
        },
        {
          "output_type": "stream",
          "name": "stdout",
          "text": [
            "2025-04-15 21:30:27,397 - pyevall.evaluation - INFO -             evaluate() - Evaluating the following metrics ['ICM']\n",
            "2025-04-15 21:30:27,459 - pyevall.metrics.metrics - INFO -             evaluate() - Executing ICM evaluation method\n",
            "Validation Results: {'eval_loss': 0.647153377532959, 'eval_precision_macro': 0.5929538369189942, 'eval_recall_macro': 0.7930431427346388, 'eval_f1_macro': 0.6746497784087705, 'eval_ICM': 0.013202583262698997, 'eval_runtime': 2.5939, 'eval_samples_per_second': 130.306, 'eval_steps_per_second': 2.313, 'epoch': 4.0}\n"
          ]
        }
      ],
      "source": [
        "set_seed()\n",
        "params = dict()\n",
        "params[\"num_train_epochs\"] = 7\n",
        "bert_en_normal_model, bert_en_normal_results = sexism_classification_pipeline_task3(EnTrainTask3, EnDevTask3, model_name=\"bert-base-uncased\", **params)\n"
      ]
    },
    {
      "cell_type": "code",
      "source": [
        "set_seed()\n",
        "params = dict()\n",
        "params[\"num_train_epochs\"] = 7\n",
        "roberta_en_normal_model, roberta_en_normal_results = sexism_classification_pipeline_task3(EnTrainTask3, EnDevTask3, model_name=\"roberta-base\", **params)\n"
      ],
      "metadata": {
        "colab": {
          "base_uri": "https://localhost:8080/",
          "height": 664
        },
        "id": "JHWcJvYi6IOu",
        "outputId": "1867f8e2-daa7-47da-f505-42157f73d5aa"
      },
      "execution_count": 52,
      "outputs": [
        {
          "output_type": "stream",
          "name": "stderr",
          "text": [
            "Some weights of RobertaForSequenceClassification were not initialized from the model checkpoint at roberta-base and are newly initialized: ['classifier.dense.bias', 'classifier.dense.weight', 'classifier.out_proj.bias', 'classifier.out_proj.weight']\n",
            "You should probably TRAIN this model on a down-stream task to be able to use it for predictions and inference.\n"
          ]
        },
        {
          "output_type": "display_data",
          "data": {
            "text/plain": [
              "<IPython.core.display.HTML object>"
            ],
            "text/html": [
              "\n",
              "    <div>\n",
              "      \n",
              "      <progress value='917' max='917' style='width:300px; height:20px; vertical-align: middle;'></progress>\n",
              "      [917/917 11:59, Epoch 7/7]\n",
              "    </div>\n",
              "    <table border=\"1\" class=\"dataframe\">\n",
              "  <thead>\n",
              " <tr style=\"text-align: left;\">\n",
              "      <th>Epoch</th>\n",
              "      <th>Training Loss</th>\n",
              "      <th>Validation Loss</th>\n",
              "      <th>Precision Macro</th>\n",
              "      <th>Recall Macro</th>\n",
              "      <th>F1 Macro</th>\n",
              "      <th>Icm</th>\n",
              "    </tr>\n",
              "  </thead>\n",
              "  <tbody>\n",
              "    <tr>\n",
              "      <td>1</td>\n",
              "      <td>0.650900</td>\n",
              "      <td>0.643109</td>\n",
              "      <td>0.415684</td>\n",
              "      <td>0.515897</td>\n",
              "      <td>0.446245</td>\n",
              "      <td>-0.640598</td>\n",
              "    </tr>\n",
              "    <tr>\n",
              "      <td>2</td>\n",
              "      <td>0.570800</td>\n",
              "      <td>0.584075</td>\n",
              "      <td>0.766863</td>\n",
              "      <td>0.591533</td>\n",
              "      <td>0.644971</td>\n",
              "      <td>-0.674001</td>\n",
              "    </tr>\n",
              "    <tr>\n",
              "      <td>3</td>\n",
              "      <td>0.521100</td>\n",
              "      <td>0.567615</td>\n",
              "      <td>0.740682</td>\n",
              "      <td>0.664022</td>\n",
              "      <td>0.694988</td>\n",
              "      <td>-0.627229</td>\n",
              "    </tr>\n",
              "    <tr>\n",
              "      <td>4</td>\n",
              "      <td>0.497200</td>\n",
              "      <td>0.597680</td>\n",
              "      <td>0.705224</td>\n",
              "      <td>0.737547</td>\n",
              "      <td>0.710477</td>\n",
              "      <td>0.349490</td>\n",
              "    </tr>\n",
              "    <tr>\n",
              "      <td>5</td>\n",
              "      <td>0.402200</td>\n",
              "      <td>0.603364</td>\n",
              "      <td>0.706226</td>\n",
              "      <td>0.740894</td>\n",
              "      <td>0.722428</td>\n",
              "      <td>0.136834</td>\n",
              "    </tr>\n",
              "    <tr>\n",
              "      <td>6</td>\n",
              "      <td>0.306500</td>\n",
              "      <td>0.671696</td>\n",
              "      <td>0.715450</td>\n",
              "      <td>0.729055</td>\n",
              "      <td>0.719878</td>\n",
              "      <td>0.105343</td>\n",
              "    </tr>\n",
              "    <tr>\n",
              "      <td>7</td>\n",
              "      <td>0.204500</td>\n",
              "      <td>0.706581</td>\n",
              "      <td>0.721969</td>\n",
              "      <td>0.679566</td>\n",
              "      <td>0.698780</td>\n",
              "      <td>0.030792</td>\n",
              "    </tr>\n",
              "  </tbody>\n",
              "</table><p>"
            ]
          },
          "metadata": {}
        },
        {
          "output_type": "stream",
          "name": "stdout",
          "text": [
            "2025-04-15 21:31:15,774 - pyevall.evaluation - INFO -             evaluate() - Evaluating the following metrics ['ICM']\n",
            "2025-04-15 21:31:15,870 - pyevall.metrics.metrics - INFO -             evaluate() - Executing ICM evaluation method\n",
            "2025-04-15 21:33:12,714 - pyevall.evaluation - INFO -             evaluate() - Evaluating the following metrics ['ICM']\n",
            "2025-04-15 21:33:12,877 - pyevall.metrics.metrics - INFO -             evaluate() - Executing ICM evaluation method\n",
            "2025-04-15 21:34:29,987 - pyevall.evaluation - INFO -             evaluate() - Evaluating the following metrics ['ICM']\n",
            "2025-04-15 21:34:30,050 - pyevall.metrics.metrics - INFO -             evaluate() - Executing ICM evaluation method\n",
            "2025-04-15 21:36:48,270 - pyevall.evaluation - INFO -             evaluate() - Evaluating the following metrics ['ICM']\n",
            "2025-04-15 21:36:48,332 - pyevall.metrics.metrics - INFO -             evaluate() - Executing ICM evaluation method\n",
            "2025-04-15 21:38:07,500 - pyevall.evaluation - INFO -             evaluate() - Evaluating the following metrics ['ICM']\n",
            "2025-04-15 21:38:07,560 - pyevall.metrics.metrics - INFO -             evaluate() - Executing ICM evaluation method\n",
            "2025-04-15 21:39:27,650 - pyevall.evaluation - INFO -             evaluate() - Evaluating the following metrics ['ICM']\n",
            "2025-04-15 21:39:27,744 - pyevall.metrics.metrics - INFO -             evaluate() - Executing ICM evaluation method\n",
            "2025-04-15 21:41:22,185 - pyevall.evaluation - INFO -             evaluate() - Evaluating the following metrics ['ICM']\n",
            "2025-04-15 21:41:22,248 - pyevall.metrics.metrics - INFO -             evaluate() - Executing ICM evaluation method\n"
          ]
        },
        {
          "output_type": "display_data",
          "data": {
            "text/plain": [
              "<IPython.core.display.HTML object>"
            ],
            "text/html": [
              "\n",
              "    <div>\n",
              "      \n",
              "      <progress value='6' max='6' style='width:300px; height:20px; vertical-align: middle;'></progress>\n",
              "      [6/6 00:01]\n",
              "    </div>\n",
              "    "
            ]
          },
          "metadata": {}
        },
        {
          "output_type": "stream",
          "name": "stdout",
          "text": [
            "2025-04-15 21:42:30,426 - pyevall.evaluation - INFO -             evaluate() - Evaluating the following metrics ['ICM']\n",
            "2025-04-15 21:42:30,496 - pyevall.metrics.metrics - INFO -             evaluate() - Executing ICM evaluation method\n",
            "Validation Results: {'eval_loss': 0.5976800322532654, 'eval_precision_macro': 0.7052237494152073, 'eval_recall_macro': 0.7375471498604826, 'eval_f1_macro': 0.7104765890797007, 'eval_ICM': 0.3494895637933883, 'eval_runtime': 2.4086, 'eval_samples_per_second': 140.332, 'eval_steps_per_second': 2.491, 'epoch': 7.0}\n"
          ]
        }
      ]
    },
    {
      "cell_type": "code",
      "source": [
        "set_seed()\n",
        "params = dict()\n",
        "params[\"lora_r\"] = 8\n",
        "params[\"lora_alpha\"] = 16\n",
        "params[\"lora_dropout\"] = 0.1\n",
        "params[\"num_train_epochs\"] = 7\n",
        "bert_en_lora_model, bert_en_lora_results = sexism_classification_pipeline_task3_lora(EnTrainTask3, EnDevTask3, model_name=\"bert-base-uncased\", **params)\n"
      ],
      "metadata": {
        "colab": {
          "base_uri": "https://localhost:8080/",
          "height": 682
        },
        "id": "ECMUDsjy6KS4",
        "outputId": "b7f15fe7-3259-481e-bfd4-d1b5e0221ec0"
      },
      "execution_count": 40,
      "outputs": [
        {
          "output_type": "stream",
          "name": "stderr",
          "text": [
            "Some weights of BertForSequenceClassification were not initialized from the model checkpoint at bert-base-uncased and are newly initialized: ['classifier.bias', 'classifier.weight']\n",
            "You should probably TRAIN this model on a down-stream task to be able to use it for predictions and inference.\n",
            "No label_names provided for model class `PeftModelForSequenceClassification`. Since `PeftModel` hides base models input arguments, if label_names is not given, label_names can't be set automatically within `Trainer`. Note that empty label_names list will be used instead.\n"
          ]
        },
        {
          "output_type": "display_data",
          "data": {
            "text/plain": [
              "<IPython.core.display.HTML object>"
            ],
            "text/html": [
              "\n",
              "    <div>\n",
              "      \n",
              "      <progress value='917' max='917' style='width:300px; height:20px; vertical-align: middle;'></progress>\n",
              "      [917/917 04:45, Epoch 7/7]\n",
              "    </div>\n",
              "    <table border=\"1\" class=\"dataframe\">\n",
              "  <thead>\n",
              " <tr style=\"text-align: left;\">\n",
              "      <th>Epoch</th>\n",
              "      <th>Training Loss</th>\n",
              "      <th>Validation Loss</th>\n",
              "      <th>Precision Macro</th>\n",
              "      <th>Recall Macro</th>\n",
              "      <th>F1 Macro</th>\n",
              "      <th>Icm</th>\n",
              "    </tr>\n",
              "  </thead>\n",
              "  <tbody>\n",
              "    <tr>\n",
              "      <td>1</td>\n",
              "      <td>0.655800</td>\n",
              "      <td>0.664362</td>\n",
              "      <td>0.489895</td>\n",
              "      <td>0.424207</td>\n",
              "      <td>0.362378</td>\n",
              "      <td>-1.012844</td>\n",
              "    </tr>\n",
              "    <tr>\n",
              "      <td>2</td>\n",
              "      <td>0.600900</td>\n",
              "      <td>0.623442</td>\n",
              "      <td>0.688576</td>\n",
              "      <td>0.569894</td>\n",
              "      <td>0.578125</td>\n",
              "      <td>-0.334696</td>\n",
              "    </tr>\n",
              "    <tr>\n",
              "      <td>3</td>\n",
              "      <td>0.582000</td>\n",
              "      <td>0.612376</td>\n",
              "      <td>0.701295</td>\n",
              "      <td>0.646978</td>\n",
              "      <td>0.667885</td>\n",
              "      <td>-0.801702</td>\n",
              "    </tr>\n",
              "    <tr>\n",
              "      <td>4</td>\n",
              "      <td>0.549900</td>\n",
              "      <td>0.575634</td>\n",
              "      <td>0.705305</td>\n",
              "      <td>0.723413</td>\n",
              "      <td>0.709848</td>\n",
              "      <td>0.215091</td>\n",
              "    </tr>\n",
              "    <tr>\n",
              "      <td>5</td>\n",
              "      <td>0.502800</td>\n",
              "      <td>0.567311</td>\n",
              "      <td>0.720784</td>\n",
              "      <td>0.686350</td>\n",
              "      <td>0.700560</td>\n",
              "      <td>-0.515976</td>\n",
              "    </tr>\n",
              "    <tr>\n",
              "      <td>6</td>\n",
              "      <td>0.475800</td>\n",
              "      <td>0.575245</td>\n",
              "      <td>0.750442</td>\n",
              "      <td>0.661069</td>\n",
              "      <td>0.698917</td>\n",
              "      <td>-0.663250</td>\n",
              "    </tr>\n",
              "    <tr>\n",
              "      <td>7</td>\n",
              "      <td>0.416300</td>\n",
              "      <td>0.594721</td>\n",
              "      <td>0.741977</td>\n",
              "      <td>0.662094</td>\n",
              "      <td>0.696582</td>\n",
              "      <td>-0.708562</td>\n",
              "    </tr>\n",
              "  </tbody>\n",
              "</table><p>"
            ]
          },
          "metadata": {}
        },
        {
          "output_type": "stream",
          "name": "stdout",
          "text": [
            "2025-04-15 21:05:12,717 - pyevall.evaluation - INFO -             evaluate() - Evaluating the following metrics ['ICM']\n",
            "2025-04-15 21:05:12,866 - pyevall.metrics.metrics - INFO -             evaluate() - Executing ICM evaluation method\n",
            "2025-04-15 21:05:54,676 - pyevall.evaluation - INFO -             evaluate() - Evaluating the following metrics ['ICM']\n",
            "2025-04-15 21:05:54,909 - pyevall.metrics.metrics - INFO -             evaluate() - Executing ICM evaluation method\n",
            "2025-04-15 21:06:35,316 - pyevall.evaluation - INFO -             evaluate() - Evaluating the following metrics ['ICM']\n",
            "2025-04-15 21:06:35,381 - pyevall.metrics.metrics - INFO -             evaluate() - Executing ICM evaluation method\n",
            "2025-04-15 21:07:15,761 - pyevall.evaluation - INFO -             evaluate() - Evaluating the following metrics ['ICM']\n",
            "2025-04-15 21:07:15,828 - pyevall.metrics.metrics - INFO -             evaluate() - Executing ICM evaluation method\n",
            "2025-04-15 21:07:55,195 - pyevall.evaluation - INFO -             evaluate() - Evaluating the following metrics ['ICM']\n",
            "2025-04-15 21:07:55,270 - pyevall.metrics.metrics - INFO -             evaluate() - Executing ICM evaluation method\n",
            "2025-04-15 21:08:36,376 - pyevall.evaluation - INFO -             evaluate() - Evaluating the following metrics ['ICM']\n",
            "2025-04-15 21:08:36,438 - pyevall.metrics.metrics - INFO -             evaluate() - Executing ICM evaluation method\n",
            "2025-04-15 21:09:15,526 - pyevall.evaluation - INFO -             evaluate() - Evaluating the following metrics ['ICM']\n",
            "2025-04-15 21:09:15,587 - pyevall.metrics.metrics - INFO -             evaluate() - Executing ICM evaluation method\n"
          ]
        },
        {
          "output_type": "display_data",
          "data": {
            "text/plain": [
              "<IPython.core.display.HTML object>"
            ],
            "text/html": [
              "\n",
              "    <div>\n",
              "      \n",
              "      <progress value='22' max='22' style='width:300px; height:20px; vertical-align: middle;'></progress>\n",
              "      [22/22 00:02]\n",
              "    </div>\n",
              "    "
            ]
          },
          "metadata": {}
        },
        {
          "output_type": "stream",
          "name": "stdout",
          "text": [
            "2025-04-15 21:09:18,656 - pyevall.evaluation - INFO -             evaluate() - Evaluating the following metrics ['ICM']\n",
            "2025-04-15 21:09:18,715 - pyevall.metrics.metrics - INFO -             evaluate() - Executing ICM evaluation method\n",
            "Validation Results: {'eval_loss': 0.5728671550750732, 'eval_precision_macro': 0.7053304334756699, 'eval_recall_macro': 0.7164276627721142, 'eval_f1_macro': 0.7060813597423564, 'eval_ICM': 0.18630012344930805, 'eval_runtime': 2.8282, 'eval_samples_per_second': 119.509, 'eval_steps_per_second': 7.779, 'epoch': 7.0}\n"
          ]
        }
      ]
    },
    {
      "cell_type": "code",
      "source": [
        "set_seed()\n",
        "params = dict()\n",
        "params[\"lora_r\"] = 8\n",
        "params[\"lora_alpha\"] = 16\n",
        "params[\"lora_dropout\"] = 0.1\n",
        "params[\"num_train_epochs\"] = 7\n",
        "roberta_en_lora_model, roberta_en_lora_results = sexism_classification_pipeline_task3_lora(EnTrainTask3, EnDevTask3, model_name=\"roberta-base\", **params)\n"
      ],
      "metadata": {
        "colab": {
          "base_uri": "https://localhost:8080/",
          "height": 682
        },
        "id": "ff1Q1lJk6L3s",
        "outputId": "47537a82-a14c-41bc-af8d-1ca33884ba3c"
      },
      "execution_count": 45,
      "outputs": [
        {
          "output_type": "stream",
          "name": "stderr",
          "text": [
            "Some weights of RobertaForSequenceClassification were not initialized from the model checkpoint at roberta-base and are newly initialized: ['classifier.dense.bias', 'classifier.dense.weight', 'classifier.out_proj.bias', 'classifier.out_proj.weight']\n",
            "You should probably TRAIN this model on a down-stream task to be able to use it for predictions and inference.\n",
            "No label_names provided for model class `PeftModelForSequenceClassification`. Since `PeftModel` hides base models input arguments, if label_names is not given, label_names can't be set automatically within `Trainer`. Note that empty label_names list will be used instead.\n"
          ]
        },
        {
          "output_type": "display_data",
          "data": {
            "text/plain": [
              "<IPython.core.display.HTML object>"
            ],
            "text/html": [
              "\n",
              "    <div>\n",
              "      \n",
              "      <progress value='917' max='917' style='width:300px; height:20px; vertical-align: middle;'></progress>\n",
              "      [917/917 04:31, Epoch 7/7]\n",
              "    </div>\n",
              "    <table border=\"1\" class=\"dataframe\">\n",
              "  <thead>\n",
              " <tr style=\"text-align: left;\">\n",
              "      <th>Epoch</th>\n",
              "      <th>Training Loss</th>\n",
              "      <th>Validation Loss</th>\n",
              "      <th>Precision Macro</th>\n",
              "      <th>Recall Macro</th>\n",
              "      <th>F1 Macro</th>\n",
              "      <th>Icm</th>\n",
              "    </tr>\n",
              "  </thead>\n",
              "  <tbody>\n",
              "    <tr>\n",
              "      <td>1</td>\n",
              "      <td>0.660900</td>\n",
              "      <td>0.654315</td>\n",
              "      <td>0.422040</td>\n",
              "      <td>0.483077</td>\n",
              "      <td>0.422399</td>\n",
              "      <td>-0.764694</td>\n",
              "    </tr>\n",
              "    <tr>\n",
              "      <td>2</td>\n",
              "      <td>0.576900</td>\n",
              "      <td>0.590251</td>\n",
              "      <td>0.761199</td>\n",
              "      <td>0.589971</td>\n",
              "      <td>0.639523</td>\n",
              "      <td>-0.555241</td>\n",
              "    </tr>\n",
              "    <tr>\n",
              "      <td>3</td>\n",
              "      <td>0.544900</td>\n",
              "      <td>0.607061</td>\n",
              "      <td>0.748974</td>\n",
              "      <td>0.568718</td>\n",
              "      <td>0.611386</td>\n",
              "      <td>-1.041671</td>\n",
              "    </tr>\n",
              "    <tr>\n",
              "      <td>4</td>\n",
              "      <td>0.546300</td>\n",
              "      <td>0.571836</td>\n",
              "      <td>0.695173</td>\n",
              "      <td>0.750210</td>\n",
              "      <td>0.713834</td>\n",
              "      <td>0.338233</td>\n",
              "    </tr>\n",
              "    <tr>\n",
              "      <td>5</td>\n",
              "      <td>0.492900</td>\n",
              "      <td>0.557287</td>\n",
              "      <td>0.730419</td>\n",
              "      <td>0.706999</td>\n",
              "      <td>0.717271</td>\n",
              "      <td>-0.257078</td>\n",
              "    </tr>\n",
              "    <tr>\n",
              "      <td>6</td>\n",
              "      <td>0.464300</td>\n",
              "      <td>0.594765</td>\n",
              "      <td>0.732220</td>\n",
              "      <td>0.693953</td>\n",
              "      <td>0.708463</td>\n",
              "      <td>-0.133520</td>\n",
              "    </tr>\n",
              "    <tr>\n",
              "      <td>7</td>\n",
              "      <td>0.407100</td>\n",
              "      <td>0.614818</td>\n",
              "      <td>0.727459</td>\n",
              "      <td>0.681105</td>\n",
              "      <td>0.701936</td>\n",
              "      <td>-0.135519</td>\n",
              "    </tr>\n",
              "  </tbody>\n",
              "</table><p>"
            ]
          },
          "metadata": {}
        },
        {
          "output_type": "stream",
          "name": "stdout",
          "text": [
            "2025-04-15 21:10:27,372 - pyevall.evaluation - INFO -             evaluate() - Evaluating the following metrics ['ICM']\n",
            "2025-04-15 21:10:27,477 - pyevall.metrics.metrics - INFO -             evaluate() - Executing ICM evaluation method\n",
            "2025-04-15 21:11:05,823 - pyevall.evaluation - INFO -             evaluate() - Evaluating the following metrics ['ICM']\n",
            "2025-04-15 21:11:05,919 - pyevall.metrics.metrics - INFO -             evaluate() - Executing ICM evaluation method\n",
            "2025-04-15 21:11:44,249 - pyevall.evaluation - INFO -             evaluate() - Evaluating the following metrics ['ICM']\n",
            "2025-04-15 21:11:44,350 - pyevall.metrics.metrics - INFO -             evaluate() - Executing ICM evaluation method\n",
            "2025-04-15 21:12:25,329 - pyevall.evaluation - INFO -             evaluate() - Evaluating the following metrics ['ICM']\n",
            "2025-04-15 21:12:25,388 - pyevall.metrics.metrics - INFO -             evaluate() - Executing ICM evaluation method\n",
            "2025-04-15 21:13:03,841 - pyevall.evaluation - INFO -             evaluate() - Evaluating the following metrics ['ICM']\n",
            "2025-04-15 21:13:03,902 - pyevall.metrics.metrics - INFO -             evaluate() - Executing ICM evaluation method\n",
            "2025-04-15 21:13:42,272 - pyevall.evaluation - INFO -             evaluate() - Evaluating the following metrics ['ICM']\n",
            "2025-04-15 21:13:42,377 - pyevall.metrics.metrics - INFO -             evaluate() - Executing ICM evaluation method\n",
            "2025-04-15 21:14:20,567 - pyevall.evaluation - INFO -             evaluate() - Evaluating the following metrics ['ICM']\n",
            "2025-04-15 21:14:20,666 - pyevall.metrics.metrics - INFO -             evaluate() - Executing ICM evaluation method\n"
          ]
        },
        {
          "output_type": "display_data",
          "data": {
            "text/plain": [
              "<IPython.core.display.HTML object>"
            ],
            "text/html": [
              "\n",
              "    <div>\n",
              "      \n",
              "      <progress value='22' max='22' style='width:300px; height:20px; vertical-align: middle;'></progress>\n",
              "      [22/22 00:02]\n",
              "    </div>\n",
              "    "
            ]
          },
          "metadata": {}
        },
        {
          "output_type": "stream",
          "name": "stdout",
          "text": [
            "2025-04-15 21:14:23,781 - pyevall.evaluation - INFO -             evaluate() - Evaluating the following metrics ['ICM']\n",
            "2025-04-15 21:14:23,848 - pyevall.metrics.metrics - INFO -             evaluate() - Executing ICM evaluation method\n",
            "Validation Results: {'eval_loss': 0.5748803019523621, 'eval_precision_macro': 0.701961452577717, 'eval_recall_macro': 0.7502264324843239, 'eval_f1_macro': 0.7201334394897998, 'eval_ICM': 0.3129179483634631, 'eval_runtime': 2.6963, 'eval_samples_per_second': 125.359, 'eval_steps_per_second': 8.159, 'epoch': 7.0}\n"
          ]
        }
      ]
    },
    {
      "cell_type": "markdown",
      "metadata": {
        "id": "5pT4ZwzkJOwS"
      },
      "source": [
        "## Do it in Spanish"
      ]
    },
    {
      "cell_type": "code",
      "source": [
        "set_seed()\n",
        "params = dict()\n",
        "params[\"num_train_epochs\"] = 7\n",
        "bert_es_normal_model, bert_es_normal_results = sexism_classification_pipeline_task3(EnTrainTask3, EnDevTask3, model_name=\"dccuchile/bert-base-spanish-wwm-uncased\", **params)\n"
      ],
      "metadata": {
        "colab": {
          "base_uri": "https://localhost:8080/",
          "height": 664
        },
        "id": "3pfz0rr0p6rC",
        "outputId": "7cff4950-9724-48c7-c1a6-6048a554b0ba"
      },
      "execution_count": 53,
      "outputs": [
        {
          "output_type": "stream",
          "name": "stderr",
          "text": [
            "Some weights of BertForSequenceClassification were not initialized from the model checkpoint at dccuchile/bert-base-spanish-wwm-uncased and are newly initialized: ['bert.pooler.dense.bias', 'bert.pooler.dense.weight', 'classifier.bias', 'classifier.weight']\n",
            "You should probably TRAIN this model on a down-stream task to be able to use it for predictions and inference.\n"
          ]
        },
        {
          "output_type": "display_data",
          "data": {
            "text/plain": [
              "<IPython.core.display.HTML object>"
            ],
            "text/html": [
              "\n",
              "    <div>\n",
              "      \n",
              "      <progress value='917' max='917' style='width:300px; height:20px; vertical-align: middle;'></progress>\n",
              "      [917/917 09:47, Epoch 7/7]\n",
              "    </div>\n",
              "    <table border=\"1\" class=\"dataframe\">\n",
              "  <thead>\n",
              " <tr style=\"text-align: left;\">\n",
              "      <th>Epoch</th>\n",
              "      <th>Training Loss</th>\n",
              "      <th>Validation Loss</th>\n",
              "      <th>Precision Macro</th>\n",
              "      <th>Recall Macro</th>\n",
              "      <th>F1 Macro</th>\n",
              "      <th>Icm</th>\n",
              "    </tr>\n",
              "  </thead>\n",
              "  <tbody>\n",
              "    <tr>\n",
              "      <td>1</td>\n",
              "      <td>0.655300</td>\n",
              "      <td>0.650889</td>\n",
              "      <td>0.420465</td>\n",
              "      <td>0.456819</td>\n",
              "      <td>0.428820</td>\n",
              "      <td>-0.787776</td>\n",
              "    </tr>\n",
              "    <tr>\n",
              "      <td>2</td>\n",
              "      <td>0.604800</td>\n",
              "      <td>0.623462</td>\n",
              "      <td>0.678300</td>\n",
              "      <td>0.640337</td>\n",
              "      <td>0.647081</td>\n",
              "      <td>-0.150657</td>\n",
              "    </tr>\n",
              "    <tr>\n",
              "      <td>3</td>\n",
              "      <td>0.595200</td>\n",
              "      <td>0.631429</td>\n",
              "      <td>0.726367</td>\n",
              "      <td>0.538194</td>\n",
              "      <td>0.594650</td>\n",
              "      <td>-0.849332</td>\n",
              "    </tr>\n",
              "    <tr>\n",
              "      <td>4</td>\n",
              "      <td>0.547800</td>\n",
              "      <td>0.632286</td>\n",
              "      <td>0.667409</td>\n",
              "      <td>0.738899</td>\n",
              "      <td>0.691606</td>\n",
              "      <td>0.169938</td>\n",
              "    </tr>\n",
              "    <tr>\n",
              "      <td>5</td>\n",
              "      <td>0.423500</td>\n",
              "      <td>0.655454</td>\n",
              "      <td>0.694994</td>\n",
              "      <td>0.648737</td>\n",
              "      <td>0.666456</td>\n",
              "      <td>-0.294567</td>\n",
              "    </tr>\n",
              "    <tr>\n",
              "      <td>6</td>\n",
              "      <td>0.313600</td>\n",
              "      <td>0.746195</td>\n",
              "      <td>0.735258</td>\n",
              "      <td>0.651772</td>\n",
              "      <td>0.673287</td>\n",
              "      <td>-0.125859</td>\n",
              "    </tr>\n",
              "    <tr>\n",
              "      <td>7</td>\n",
              "      <td>0.192800</td>\n",
              "      <td>0.769249</td>\n",
              "      <td>0.699582</td>\n",
              "      <td>0.640811</td>\n",
              "      <td>0.663029</td>\n",
              "      <td>-0.246506</td>\n",
              "    </tr>\n",
              "  </tbody>\n",
              "</table><p>"
            ]
          },
          "metadata": {}
        },
        {
          "output_type": "stream",
          "name": "stdout",
          "text": [
            "2025-04-15 21:43:19,098 - pyevall.evaluation - INFO -             evaluate() - Evaluating the following metrics ['ICM']\n",
            "2025-04-15 21:43:19,158 - pyevall.metrics.metrics - INFO -             evaluate() - Executing ICM evaluation method\n",
            "2025-04-15 21:44:24,796 - pyevall.evaluation - INFO -             evaluate() - Evaluating the following metrics ['ICM']\n",
            "2025-04-15 21:44:24,858 - pyevall.metrics.metrics - INFO -             evaluate() - Executing ICM evaluation method\n",
            "2025-04-15 21:46:07,475 - pyevall.evaluation - INFO -             evaluate() - Evaluating the following metrics ['ICM']\n",
            "2025-04-15 21:46:07,580 - pyevall.metrics.metrics - INFO -             evaluate() - Executing ICM evaluation method\n",
            "2025-04-15 21:47:39,121 - pyevall.evaluation - INFO -             evaluate() - Evaluating the following metrics ['ICM']\n",
            "2025-04-15 21:47:39,187 - pyevall.metrics.metrics - INFO -             evaluate() - Executing ICM evaluation method\n",
            "2025-04-15 21:49:05,260 - pyevall.evaluation - INFO -             evaluate() - Evaluating the following metrics ['ICM']\n",
            "2025-04-15 21:49:05,319 - pyevall.metrics.metrics - INFO -             evaluate() - Executing ICM evaluation method\n",
            "2025-04-15 21:50:35,122 - pyevall.evaluation - INFO -             evaluate() - Evaluating the following metrics ['ICM']\n",
            "2025-04-15 21:50:35,224 - pyevall.metrics.metrics - INFO -             evaluate() - Executing ICM evaluation method\n",
            "2025-04-15 21:51:41,637 - pyevall.evaluation - INFO -             evaluate() - Evaluating the following metrics ['ICM']\n",
            "2025-04-15 21:51:41,696 - pyevall.metrics.metrics - INFO -             evaluate() - Executing ICM evaluation method\n"
          ]
        },
        {
          "output_type": "display_data",
          "data": {
            "text/plain": [
              "<IPython.core.display.HTML object>"
            ],
            "text/html": [
              "\n",
              "    <div>\n",
              "      \n",
              "      <progress value='6' max='6' style='width:300px; height:20px; vertical-align: middle;'></progress>\n",
              "      [6/6 00:01]\n",
              "    </div>\n",
              "    "
            ]
          },
          "metadata": {}
        },
        {
          "output_type": "stream",
          "name": "stdout",
          "text": [
            "2025-04-15 21:52:22,398 - pyevall.evaluation - INFO -             evaluate() - Evaluating the following metrics ['ICM']\n",
            "2025-04-15 21:52:22,469 - pyevall.metrics.metrics - INFO -             evaluate() - Executing ICM evaluation method\n",
            "Validation Results: {'eval_loss': 0.6322862505912781, 'eval_precision_macro': 0.6674088522768875, 'eval_recall_macro': 0.7388992265000491, 'eval_f1_macro': 0.6916055740756913, 'eval_ICM': 0.16993791343886866, 'eval_runtime': 2.463, 'eval_samples_per_second': 137.229, 'eval_steps_per_second': 2.436, 'epoch': 7.0}\n"
          ]
        }
      ]
    },
    {
      "cell_type": "code",
      "source": [
        "set_seed()\n",
        "params = dict()\n",
        "params[\"num_train_epochs\"] = 7\n",
        "roberta_es_normal_model, roberta_es_normal_results = sexism_classification_pipeline_task3(EnTrainTask3, EnDevTask3, model_name=\"PlanTL-GOB-ES/roberta-base-bne\", **params)\n"
      ],
      "metadata": {
        "colab": {
          "base_uri": "https://localhost:8080/",
          "height": 664
        },
        "id": "TJHHSFxM6Mx8",
        "outputId": "31708193-1dd3-4afd-acc2-8933cfce8c6d"
      },
      "execution_count": 54,
      "outputs": [
        {
          "output_type": "stream",
          "name": "stderr",
          "text": [
            "Some weights of RobertaForSequenceClassification were not initialized from the model checkpoint at PlanTL-GOB-ES/roberta-base-bne and are newly initialized: ['classifier.dense.bias', 'classifier.dense.weight', 'classifier.out_proj.bias', 'classifier.out_proj.weight']\n",
            "You should probably TRAIN this model on a down-stream task to be able to use it for predictions and inference.\n"
          ]
        },
        {
          "output_type": "display_data",
          "data": {
            "text/plain": [
              "<IPython.core.display.HTML object>"
            ],
            "text/html": [
              "\n",
              "    <div>\n",
              "      \n",
              "      <progress value='917' max='917' style='width:300px; height:20px; vertical-align: middle;'></progress>\n",
              "      [917/917 10:18, Epoch 7/7]\n",
              "    </div>\n",
              "    <table border=\"1\" class=\"dataframe\">\n",
              "  <thead>\n",
              " <tr style=\"text-align: left;\">\n",
              "      <th>Epoch</th>\n",
              "      <th>Training Loss</th>\n",
              "      <th>Validation Loss</th>\n",
              "      <th>Precision Macro</th>\n",
              "      <th>Recall Macro</th>\n",
              "      <th>F1 Macro</th>\n",
              "      <th>Icm</th>\n",
              "    </tr>\n",
              "  </thead>\n",
              "  <tbody>\n",
              "    <tr>\n",
              "      <td>1</td>\n",
              "      <td>0.645700</td>\n",
              "      <td>0.634656</td>\n",
              "      <td>0.542247</td>\n",
              "      <td>0.560841</td>\n",
              "      <td>0.518355</td>\n",
              "      <td>-0.466486</td>\n",
              "    </tr>\n",
              "    <tr>\n",
              "      <td>2</td>\n",
              "      <td>0.608100</td>\n",
              "      <td>0.630720</td>\n",
              "      <td>0.771862</td>\n",
              "      <td>0.470485</td>\n",
              "      <td>0.503220</td>\n",
              "      <td>-1.333011</td>\n",
              "    </tr>\n",
              "    <tr>\n",
              "      <td>3</td>\n",
              "      <td>0.544600</td>\n",
              "      <td>0.626905</td>\n",
              "      <td>0.692641</td>\n",
              "      <td>0.649488</td>\n",
              "      <td>0.659707</td>\n",
              "      <td>-0.569422</td>\n",
              "    </tr>\n",
              "    <tr>\n",
              "      <td>4</td>\n",
              "      <td>0.429900</td>\n",
              "      <td>0.666371</td>\n",
              "      <td>0.671696</td>\n",
              "      <td>0.709795</td>\n",
              "      <td>0.673695</td>\n",
              "      <td>-0.022698</td>\n",
              "    </tr>\n",
              "    <tr>\n",
              "      <td>5</td>\n",
              "      <td>0.277500</td>\n",
              "      <td>0.733312</td>\n",
              "      <td>0.701799</td>\n",
              "      <td>0.653766</td>\n",
              "      <td>0.675719</td>\n",
              "      <td>-0.270930</td>\n",
              "    </tr>\n",
              "    <tr>\n",
              "      <td>6</td>\n",
              "      <td>0.127600</td>\n",
              "      <td>0.845511</td>\n",
              "      <td>0.693059</td>\n",
              "      <td>0.657054</td>\n",
              "      <td>0.669582</td>\n",
              "      <td>-0.176712</td>\n",
              "    </tr>\n",
              "    <tr>\n",
              "      <td>7</td>\n",
              "      <td>0.049600</td>\n",
              "      <td>0.914809</td>\n",
              "      <td>0.694149</td>\n",
              "      <td>0.638204</td>\n",
              "      <td>0.661910</td>\n",
              "      <td>-0.410744</td>\n",
              "    </tr>\n",
              "  </tbody>\n",
              "</table><p>"
            ]
          },
          "metadata": {}
        },
        {
          "output_type": "stream",
          "name": "stdout",
          "text": [
            "2025-04-15 21:53:12,408 - pyevall.evaluation - INFO -             evaluate() - Evaluating the following metrics ['ICM']\n",
            "2025-04-15 21:53:12,466 - pyevall.metrics.metrics - INFO -             evaluate() - Executing ICM evaluation method\n",
            "2025-04-15 21:55:01,112 - pyevall.evaluation - INFO -             evaluate() - Evaluating the following metrics ['ICM']\n",
            "2025-04-15 21:55:01,174 - pyevall.metrics.metrics - INFO -             evaluate() - Executing ICM evaluation method\n",
            "2025-04-15 21:56:12,519 - pyevall.evaluation - INFO -             evaluate() - Evaluating the following metrics ['ICM']\n",
            "2025-04-15 21:56:12,583 - pyevall.metrics.metrics - INFO -             evaluate() - Executing ICM evaluation method\n",
            "2025-04-15 21:57:59,212 - pyevall.evaluation - INFO -             evaluate() - Evaluating the following metrics ['ICM']\n",
            "2025-04-15 21:57:59,275 - pyevall.metrics.metrics - INFO -             evaluate() - Executing ICM evaluation method\n",
            "2025-04-15 21:59:33,330 - pyevall.evaluation - INFO -             evaluate() - Evaluating the following metrics ['ICM']\n",
            "2025-04-15 21:59:33,446 - pyevall.metrics.metrics - INFO -             evaluate() - Executing ICM evaluation method\n",
            "2025-04-15 22:00:50,970 - pyevall.evaluation - INFO -             evaluate() - Evaluating the following metrics ['ICM']\n",
            "2025-04-15 22:00:51,069 - pyevall.metrics.metrics - INFO -             evaluate() - Executing ICM evaluation method\n",
            "2025-04-15 22:02:11,592 - pyevall.evaluation - INFO -             evaluate() - Evaluating the following metrics ['ICM']\n",
            "2025-04-15 22:02:11,652 - pyevall.metrics.metrics - INFO -             evaluate() - Executing ICM evaluation method\n"
          ]
        },
        {
          "output_type": "display_data",
          "data": {
            "text/plain": [
              "<IPython.core.display.HTML object>"
            ],
            "text/html": [
              "\n",
              "    <div>\n",
              "      \n",
              "      <progress value='6' max='6' style='width:300px; height:20px; vertical-align: middle;'></progress>\n",
              "      [6/6 00:01]\n",
              "    </div>\n",
              "    "
            ]
          },
          "metadata": {}
        },
        {
          "output_type": "stream",
          "name": "stdout",
          "text": [
            "2025-04-15 22:02:46,798 - pyevall.evaluation - INFO -             evaluate() - Evaluating the following metrics ['ICM']\n",
            "2025-04-15 22:02:46,862 - pyevall.metrics.metrics - INFO -             evaluate() - Executing ICM evaluation method\n",
            "Validation Results: {'eval_loss': 0.6663705706596375, 'eval_precision_macro': 0.6716957502291422, 'eval_recall_macro': 0.709794857739953, 'eval_f1_macro': 0.673694993183668, 'eval_ICM': -0.022697809902034734, 'eval_runtime': 2.4939, 'eval_samples_per_second': 135.531, 'eval_steps_per_second': 2.406, 'epoch': 7.0}\n"
          ]
        }
      ]
    },
    {
      "cell_type": "code",
      "source": [
        "set_seed()\n",
        "params = dict()\n",
        "params[\"lora_r\"] = 8\n",
        "params[\"lora_alpha\"] = 16\n",
        "params[\"lora_dropout\"] = 0.1\n",
        "params[\"num_train_epochs\"] = 7\n",
        "bert_es_lora_model, bert_es_lora_results = sexism_classification_pipeline_task3_lora(EnTrainTask3, EnDevTask3, model_name=\"dccuchile/bert-base-spanish-wwm-uncased\", **params)\n"
      ],
      "metadata": {
        "colab": {
          "base_uri": "https://localhost:8080/",
          "height": 682
        },
        "id": "CEMRtVSx6N2X",
        "outputId": "ed62be77-6080-406f-aef8-e5ce20e8f388"
      },
      "execution_count": 59,
      "outputs": [
        {
          "output_type": "stream",
          "name": "stderr",
          "text": [
            "Some weights of BertForSequenceClassification were not initialized from the model checkpoint at dccuchile/bert-base-spanish-wwm-uncased and are newly initialized: ['bert.pooler.dense.bias', 'bert.pooler.dense.weight', 'classifier.bias', 'classifier.weight']\n",
            "You should probably TRAIN this model on a down-stream task to be able to use it for predictions and inference.\n",
            "No label_names provided for model class `PeftModelForSequenceClassification`. Since `PeftModel` hides base models input arguments, if label_names is not given, label_names can't be set automatically within `Trainer`. Note that empty label_names list will be used instead.\n"
          ]
        },
        {
          "output_type": "display_data",
          "data": {
            "text/plain": [
              "<IPython.core.display.HTML object>"
            ],
            "text/html": [
              "\n",
              "    <div>\n",
              "      \n",
              "      <progress value='917' max='917' style='width:300px; height:20px; vertical-align: middle;'></progress>\n",
              "      [917/917 04:34, Epoch 7/7]\n",
              "    </div>\n",
              "    <table border=\"1\" class=\"dataframe\">\n",
              "  <thead>\n",
              " <tr style=\"text-align: left;\">\n",
              "      <th>Epoch</th>\n",
              "      <th>Training Loss</th>\n",
              "      <th>Validation Loss</th>\n",
              "      <th>Precision Macro</th>\n",
              "      <th>Recall Macro</th>\n",
              "      <th>F1 Macro</th>\n",
              "      <th>Icm</th>\n",
              "    </tr>\n",
              "  </thead>\n",
              "  <tbody>\n",
              "    <tr>\n",
              "      <td>1</td>\n",
              "      <td>0.660100</td>\n",
              "      <td>0.667400</td>\n",
              "      <td>0.398569</td>\n",
              "      <td>0.433598</td>\n",
              "      <td>0.375546</td>\n",
              "      <td>-0.972291</td>\n",
              "    </tr>\n",
              "    <tr>\n",
              "      <td>2</td>\n",
              "      <td>0.633400</td>\n",
              "      <td>0.649231</td>\n",
              "      <td>0.616299</td>\n",
              "      <td>0.483224</td>\n",
              "      <td>0.455717</td>\n",
              "      <td>-0.694866</td>\n",
              "    </tr>\n",
              "    <tr>\n",
              "      <td>3</td>\n",
              "      <td>0.634000</td>\n",
              "      <td>0.634237</td>\n",
              "      <td>0.640235</td>\n",
              "      <td>0.641332</td>\n",
              "      <td>0.633443</td>\n",
              "      <td>-0.306423</td>\n",
              "    </tr>\n",
              "    <tr>\n",
              "      <td>4</td>\n",
              "      <td>0.588000</td>\n",
              "      <td>0.620257</td>\n",
              "      <td>0.688296</td>\n",
              "      <td>0.666499</td>\n",
              "      <td>0.661059</td>\n",
              "      <td>-0.042555</td>\n",
              "    </tr>\n",
              "    <tr>\n",
              "      <td>5</td>\n",
              "      <td>0.575600</td>\n",
              "      <td>0.594907</td>\n",
              "      <td>0.680565</td>\n",
              "      <td>0.749659</td>\n",
              "      <td>0.710212</td>\n",
              "      <td>0.201765</td>\n",
              "    </tr>\n",
              "    <tr>\n",
              "      <td>6</td>\n",
              "      <td>0.537600</td>\n",
              "      <td>0.612154</td>\n",
              "      <td>0.715877</td>\n",
              "      <td>0.665699</td>\n",
              "      <td>0.676403</td>\n",
              "      <td>-0.006645</td>\n",
              "    </tr>\n",
              "    <tr>\n",
              "      <td>7</td>\n",
              "      <td>0.480300</td>\n",
              "      <td>0.600665</td>\n",
              "      <td>0.710384</td>\n",
              "      <td>0.690859</td>\n",
              "      <td>0.698284</td>\n",
              "      <td>-0.192581</td>\n",
              "    </tr>\n",
              "  </tbody>\n",
              "</table><p>"
            ]
          },
          "metadata": {}
        },
        {
          "output_type": "stream",
          "name": "stdout",
          "text": [
            "2025-04-15 22:08:22,233 - pyevall.evaluation - INFO -             evaluate() - Evaluating the following metrics ['ICM']\n",
            "2025-04-15 22:08:22,333 - pyevall.metrics.metrics - INFO -             evaluate() - Executing ICM evaluation method\n",
            "2025-04-15 22:09:01,436 - pyevall.evaluation - INFO -             evaluate() - Evaluating the following metrics ['ICM']\n",
            "2025-04-15 22:09:01,498 - pyevall.metrics.metrics - INFO -             evaluate() - Executing ICM evaluation method\n",
            "2025-04-15 22:09:40,653 - pyevall.evaluation - INFO -             evaluate() - Evaluating the following metrics ['ICM']\n",
            "2025-04-15 22:09:40,716 - pyevall.metrics.metrics - INFO -             evaluate() - Executing ICM evaluation method\n",
            "2025-04-15 22:10:19,855 - pyevall.evaluation - INFO -             evaluate() - Evaluating the following metrics ['ICM']\n",
            "2025-04-15 22:10:19,920 - pyevall.metrics.metrics - INFO -             evaluate() - Executing ICM evaluation method\n",
            "2025-04-15 22:10:58,986 - pyevall.evaluation - INFO -             evaluate() - Evaluating the following metrics ['ICM']\n",
            "2025-04-15 22:10:59,048 - pyevall.metrics.metrics - INFO -             evaluate() - Executing ICM evaluation method\n",
            "2025-04-15 22:11:38,340 - pyevall.evaluation - INFO -             evaluate() - Evaluating the following metrics ['ICM']\n",
            "2025-04-15 22:11:38,408 - pyevall.metrics.metrics - INFO -             evaluate() - Executing ICM evaluation method\n",
            "2025-04-15 22:12:17,773 - pyevall.evaluation - INFO -             evaluate() - Evaluating the following metrics ['ICM']\n",
            "2025-04-15 22:12:17,833 - pyevall.metrics.metrics - INFO -             evaluate() - Executing ICM evaluation method\n"
          ]
        },
        {
          "output_type": "display_data",
          "data": {
            "text/plain": [
              "<IPython.core.display.HTML object>"
            ],
            "text/html": [
              "\n",
              "    <div>\n",
              "      \n",
              "      <progress value='22' max='22' style='width:300px; height:20px; vertical-align: middle;'></progress>\n",
              "      [22/22 00:02]\n",
              "    </div>\n",
              "    "
            ]
          },
          "metadata": {}
        },
        {
          "output_type": "stream",
          "name": "stdout",
          "text": [
            "2025-04-15 22:12:20,867 - pyevall.evaluation - INFO -             evaluate() - Evaluating the following metrics ['ICM']\n",
            "2025-04-15 22:12:20,967 - pyevall.metrics.metrics - INFO -             evaluate() - Executing ICM evaluation method\n",
            "Validation Results: {'eval_loss': 0.5920096635818481, 'eval_precision_macro': 0.6881982584738702, 'eval_recall_macro': 0.7386722714228751, 'eval_f1_macro': 0.709713701376738, 'eval_ICM': 0.16853732697347593, 'eval_runtime': 2.861, 'eval_samples_per_second': 118.139, 'eval_steps_per_second': 7.69, 'epoch': 7.0}\n"
          ]
        }
      ]
    },
    {
      "cell_type": "code",
      "source": [
        "set_seed()\n",
        "params = dict()\n",
        "params[\"lora_r\"] = 8\n",
        "params[\"lora_alpha\"] = 16\n",
        "params[\"lora_dropout\"] = 0.1\n",
        "params[\"num_train_epochs\"] = 7\n",
        "roberta_es_lora_model, roberta_es_lora_results = sexism_classification_pipeline_task3_lora(EnTrainTask3, EnDevTask3, model_name=\"PlanTL-GOB-ES/roberta-base-bne\", **params)\n"
      ],
      "metadata": {
        "colab": {
          "base_uri": "https://localhost:8080/",
          "height": 682
        },
        "id": "Cj9XWpsT6OhY",
        "outputId": "aba1674a-2efa-4cbd-cabe-3eb73305cea7"
      },
      "execution_count": 58,
      "outputs": [
        {
          "output_type": "stream",
          "name": "stderr",
          "text": [
            "Some weights of RobertaForSequenceClassification were not initialized from the model checkpoint at PlanTL-GOB-ES/roberta-base-bne and are newly initialized: ['classifier.dense.bias', 'classifier.dense.weight', 'classifier.out_proj.bias', 'classifier.out_proj.weight']\n",
            "You should probably TRAIN this model on a down-stream task to be able to use it for predictions and inference.\n",
            "No label_names provided for model class `PeftModelForSequenceClassification`. Since `PeftModel` hides base models input arguments, if label_names is not given, label_names can't be set automatically within `Trainer`. Note that empty label_names list will be used instead.\n"
          ]
        },
        {
          "output_type": "display_data",
          "data": {
            "text/plain": [
              "<IPython.core.display.HTML object>"
            ],
            "text/html": [
              "\n",
              "    <div>\n",
              "      \n",
              "      <progress value='917' max='917' style='width:300px; height:20px; vertical-align: middle;'></progress>\n",
              "      [917/917 04:27, Epoch 7/7]\n",
              "    </div>\n",
              "    <table border=\"1\" class=\"dataframe\">\n",
              "  <thead>\n",
              " <tr style=\"text-align: left;\">\n",
              "      <th>Epoch</th>\n",
              "      <th>Training Loss</th>\n",
              "      <th>Validation Loss</th>\n",
              "      <th>Precision Macro</th>\n",
              "      <th>Recall Macro</th>\n",
              "      <th>F1 Macro</th>\n",
              "      <th>Icm</th>\n",
              "    </tr>\n",
              "  </thead>\n",
              "  <tbody>\n",
              "    <tr>\n",
              "      <td>1</td>\n",
              "      <td>0.650500</td>\n",
              "      <td>0.643718</td>\n",
              "      <td>0.596785</td>\n",
              "      <td>0.528955</td>\n",
              "      <td>0.456078</td>\n",
              "      <td>-0.614663</td>\n",
              "    </tr>\n",
              "    <tr>\n",
              "      <td>2</td>\n",
              "      <td>0.616500</td>\n",
              "      <td>0.641748</td>\n",
              "      <td>0.738417</td>\n",
              "      <td>0.476903</td>\n",
              "      <td>0.489622</td>\n",
              "      <td>-0.952057</td>\n",
              "    </tr>\n",
              "    <tr>\n",
              "      <td>3</td>\n",
              "      <td>0.612400</td>\n",
              "      <td>0.640955</td>\n",
              "      <td>0.682983</td>\n",
              "      <td>0.588411</td>\n",
              "      <td>0.610033</td>\n",
              "      <td>-1.718106</td>\n",
              "    </tr>\n",
              "    <tr>\n",
              "      <td>4</td>\n",
              "      <td>0.560100</td>\n",
              "      <td>0.616469</td>\n",
              "      <td>0.742958</td>\n",
              "      <td>0.633897</td>\n",
              "      <td>0.640199</td>\n",
              "      <td>-0.017659</td>\n",
              "    </tr>\n",
              "    <tr>\n",
              "      <td>5</td>\n",
              "      <td>0.487700</td>\n",
              "      <td>0.599194</td>\n",
              "      <td>0.694998</td>\n",
              "      <td>0.710462</td>\n",
              "      <td>0.701733</td>\n",
              "      <td>0.029039</td>\n",
              "    </tr>\n",
              "    <tr>\n",
              "      <td>6</td>\n",
              "      <td>0.366100</td>\n",
              "      <td>0.721376</td>\n",
              "      <td>0.721442</td>\n",
              "      <td>0.620702</td>\n",
              "      <td>0.653685</td>\n",
              "      <td>-0.297765</td>\n",
              "    </tr>\n",
              "    <tr>\n",
              "      <td>7</td>\n",
              "      <td>0.208000</td>\n",
              "      <td>0.800966</td>\n",
              "      <td>0.701047</td>\n",
              "      <td>0.626934</td>\n",
              "      <td>0.659763</td>\n",
              "      <td>-0.548552</td>\n",
              "    </tr>\n",
              "  </tbody>\n",
              "</table><p>"
            ]
          },
          "metadata": {}
        },
        {
          "output_type": "stream",
          "name": "stdout",
          "text": [
            "2025-04-15 22:03:48,183 - pyevall.evaluation - INFO -             evaluate() - Evaluating the following metrics ['ICM']\n",
            "2025-04-15 22:03:48,290 - pyevall.metrics.metrics - INFO -             evaluate() - Executing ICM evaluation method\n",
            "2025-04-15 22:04:26,045 - pyevall.evaluation - INFO -             evaluate() - Evaluating the following metrics ['ICM']\n",
            "2025-04-15 22:04:26,139 - pyevall.metrics.metrics - INFO -             evaluate() - Executing ICM evaluation method\n",
            "2025-04-15 22:05:03,895 - pyevall.evaluation - INFO -             evaluate() - Evaluating the following metrics ['ICM']\n",
            "2025-04-15 22:05:03,955 - pyevall.metrics.metrics - INFO -             evaluate() - Executing ICM evaluation method\n",
            "2025-04-15 22:05:41,803 - pyevall.evaluation - INFO -             evaluate() - Evaluating the following metrics ['ICM']\n",
            "2025-04-15 22:05:41,867 - pyevall.metrics.metrics - INFO -             evaluate() - Executing ICM evaluation method\n",
            "2025-04-15 22:06:20,377 - pyevall.evaluation - INFO -             evaluate() - Evaluating the following metrics ['ICM']\n",
            "2025-04-15 22:06:20,442 - pyevall.metrics.metrics - INFO -             evaluate() - Executing ICM evaluation method\n",
            "2025-04-15 22:06:58,426 - pyevall.evaluation - INFO -             evaluate() - Evaluating the following metrics ['ICM']\n",
            "2025-04-15 22:06:58,489 - pyevall.metrics.metrics - INFO -             evaluate() - Executing ICM evaluation method\n",
            "2025-04-15 22:07:36,386 - pyevall.evaluation - INFO -             evaluate() - Evaluating the following metrics ['ICM']\n",
            "2025-04-15 22:07:36,446 - pyevall.metrics.metrics - INFO -             evaluate() - Executing ICM evaluation method\n"
          ]
        },
        {
          "output_type": "display_data",
          "data": {
            "text/plain": [
              "<IPython.core.display.HTML object>"
            ],
            "text/html": [
              "\n",
              "    <div>\n",
              "      \n",
              "      <progress value='22' max='22' style='width:300px; height:20px; vertical-align: middle;'></progress>\n",
              "      [22/22 00:02]\n",
              "    </div>\n",
              "    "
            ]
          },
          "metadata": {}
        },
        {
          "output_type": "stream",
          "name": "stdout",
          "text": [
            "2025-04-15 22:07:41,214 - pyevall.evaluation - INFO -             evaluate() - Evaluating the following metrics ['ICM']\n",
            "2025-04-15 22:07:41,313 - pyevall.metrics.metrics - INFO -             evaluate() - Executing ICM evaluation method\n",
            "Validation Results: {'eval_loss': 0.606982946395874, 'eval_precision_macro': 0.7017458299727416, 'eval_recall_macro': 0.6948828351296383, 'eval_f1_macro': 0.6964711914504839, 'eval_ICM': -0.06009268361174214, 'eval_runtime': 2.9261, 'eval_samples_per_second': 115.51, 'eval_steps_per_second': 7.518, 'epoch': 7.0}\n"
          ]
        }
      ]
    },
    {
      "cell_type": "markdown",
      "metadata": {
        "id": "tycmLSCKJOwS"
      },
      "source": [
        "# Show Results"
      ]
    },
    {
      "cell_type": "code",
      "source": [
        "results = {\n",
        "    'English': {\n",
        "        'Fine-tuning': {\n",
        "            'BERT': bert_en_normal_results,\n",
        "            'RoBERTa': roberta_en_normal_results\n",
        "        },\n",
        "        'LoRA': {\n",
        "            'BERT': bert_en_lora_results,\n",
        "            'RoBERTa': roberta_en_lora_results\n",
        "        }\n",
        "    },\n",
        "    'Spanish': {\n",
        "        'Fine-tuning': {\n",
        "            'BERT': bert_es_normal_results,\n",
        "            'RoBERTa': roberta_es_normal_results\n",
        "        },\n",
        "        'LoRA': {\n",
        "            'BERT': bert_es_lora_results,\n",
        "            'RoBERTa': roberta_es_lora_results\n",
        "        }\n",
        "    }\n",
        "}\n",
        "\n",
        "def print_results():\n",
        "    print(\"English\")\n",
        "    print(\"Fine-tuning\")\n",
        "    print(f\"\\tsubtask3: ICM:{results['English']['Fine-tuning']['BERT']['eval_ICM']:.4f} macro-f1:{results['English']['Fine-tuning']['BERT']['eval_f1_macro']:.4f}\")\n",
        "    print(f\"\\tsubtask3: ICM:{results['English']['Fine-tuning']['RoBERTa']['eval_ICM']:.4f} macro-f1:{results['English']['Fine-tuning']['RoBERTa']['eval_f1_macro']:.4f}\")\n",
        "    print(\"LoRA\")\n",
        "    print(f\"\\tsubtask3: ICM:{results['English']['LoRA']['BERT']['eval_ICM']:.4f} macro-f1:{results['English']['LoRA']['BERT']['eval_f1_macro']:.4f}\")\n",
        "    print(f\"\\tsubtask3: ICM:{results['English']['LoRA']['RoBERTa']['eval_ICM']:.4f} macro-f1:{results['English']['LoRA']['RoBERTa']['eval_f1_macro']:.4f}\")\n",
        "    print(\"Spanish\")\n",
        "    print(\"Fine-tuning\")\n",
        "    print(f\"\\tsubtask3: ICM:{results['Spanish']['Fine-tuning']['BERT']['eval_ICM']:.4f} macro-f1:{results['Spanish']['Fine-tuning']['BERT']['eval_f1_macro']:.4f}\")\n",
        "    print(f\"\\tsubtask3: ICM:{results['Spanish']['Fine-tuning']['RoBERTa']['eval_ICM']:.4f} macro-f1:{results['Spanish']['Fine-tuning']['RoBERTa']['eval_f1_macro']:.4f}\")\n",
        "    print(\"LoRA\")\n",
        "    print(f\"\\tsubtask3: ICM:{results['Spanish']['LoRA']['BERT']['eval_ICM']:.4f} macro-f1:{results['Spanish']['LoRA']['BERT']['eval_f1_macro']:.4f}\")\n",
        "    print(f\"\\tsubtask3: ICM:{results['Spanish']['LoRA']['RoBERTa']['eval_ICM']:.4f} macro-f1:{results['Spanish']['LoRA']['RoBERTa']['eval_f1_macro']:.4f}\")\n",
        "\n",
        "print_results()"
      ],
      "metadata": {
        "colab": {
          "base_uri": "https://localhost:8080/"
        },
        "id": "3QwXou20z8e6",
        "outputId": "b450a1cb-4585-40a6-a330-a4f072abfa4f"
      },
      "execution_count": 60,
      "outputs": [
        {
          "output_type": "stream",
          "name": "stdout",
          "text": [
            "English\n",
            "Fine-tuning\n",
            "\tsubtask3: ICM:0.0132 macro-f1:0.6746 (38.91 per epoch)\n",
            "\tsubtask3: ICM:0.3495 macro-f1:0.7105 (20.65 per epoch)\n",
            "LoRA\n",
            "\tsubtask3: ICM:0.1863 macro-f1:0.7061 (24.24 per epoch)\n",
            "\tsubtask3: ICM:0.3129 macro-f1:0.7201 (32.36 per epoch)\n",
            "Spanish\n",
            "Fine-tuning\n",
            "\tsubtask3: ICM:0.1699 macro-f1:0.6916 (21.11 per epoch)\n",
            "\tsubtask3: ICM:-0.0227 macro-f1:0.6737 (21.38 per epoch)\n",
            "LoRA\n",
            "\tsubtask3: ICM:0.1685 macro-f1:0.7097 (24.52 per epoch)\n",
            "\tsubtask3: ICM:-0.0601 macro-f1:0.6965 (25.08 per epoch)\n"
          ]
        }
      ]
    },
    {
      "cell_type": "code",
      "source": [
        "import matplotlib.pyplot as plt\n",
        "import seaborn as sns\n",
        "\n",
        "def plot_results():\n",
        "    data = []\n",
        "    for lang in ['English', 'Spanish']:\n",
        "        for method in ['Fine-tuning', 'LoRA']:\n",
        "            for model in ['BERT', 'RoBERTa']:\n",
        "                icm = results[lang][method][model]['eval_ICM']\n",
        "                f1 = results[lang][method][model]['eval_f1_macro']\n",
        "                time_per_epoch = results[lang][method][model]['eval_runtime'] / results[lang][method][model]['epoch'] * 60\n",
        "                data.append([lang, method, model, icm, f1, time_per_epoch])\n",
        "\n",
        "    df = pd.DataFrame(data, columns=['Language', 'Method', 'Model', 'ICM', 'F1', 'Time_per_Epoch'])\n",
        "    df['Model_Language'] = df['Model'] + '_' + df['Language']\n",
        "    plt.figure(figsize=(12, 6))\n",
        "    sns.barplot(x='Model_Language', y='F1', hue='Method', data=df)\n",
        "    plt.title('Macro-F1 Scores by Model and Method')\n",
        "    plt.savefig('f1_scores.png')\n",
        "\n",
        "    plt.figure(figsize=(12, 6))\n",
        "    sns.barplot(x='Model_Language', y='ICM', hue='Method', data=df)\n",
        "    plt.title('ICM Scores by Model and Method')\n",
        "    plt.savefig('icm_scores.png')\n",
        "\n",
        "    plt.figure(figsize=(12, 6))\n",
        "    sns.barplot(x='Model_Language', y='Time_per_Epoch', hue='Method', data=df)\n",
        "    plt.title('Training Time per Epoch by Model and Method')\n",
        "    plt.savefig('training_time.png')\n",
        "\n",
        "plot_results()"
      ],
      "metadata": {
        "colab": {
          "base_uri": "https://localhost:8080/",
          "height": 1000
        },
        "id": "MtOJnLfC0ACR",
        "outputId": "570c655b-2d3d-44fb-d92d-8093b9077f4f"
      },
      "execution_count": 61,
      "outputs": [
        {
          "output_type": "display_data",
          "data": {
            "text/plain": [
              "<Figure size 1200x600 with 1 Axes>"
            ],
            "image/png": "[encoded data removed]"
          },
          "metadata": {}
        },
        {
          "output_type": "display_data",
          "data": {
            "text/plain": [
              "<Figure size 1200x600 with 1 Axes>"
            ],
            "image/png": "[encoded data removed]"
          },
          "metadata": {}
        },
        {
          "output_type": "display_data",
          "data": {
            "text/plain": [
              "<Figure size 1200x600 with 1 Axes>"
            ],
            "image/png": "[encoded data removed]"
          },
          "metadata": {}
        }
      ]
    },
    {
      "cell_type": "code",
      "source": [
        "def create_results_table():\n",
        "    data = []\n",
        "    for lang in ['English', 'Spanish']:\n",
        "        for method in ['Fine-tuning', 'LoRA']:\n",
        "            for model in ['BERT', 'RoBERTa']:\n",
        "                icm = results[lang][method][model]['eval_ICM']\n",
        "                f1 = results[lang][method][model]['eval_f1_macro']\n",
        "                time_per_epoch = results[lang][method][model]['eval_runtime'] / results[lang][method][model]['epoch'] * 60\n",
        "                data.append([lang, method, model, f\"{icm:.4f}\", f\"{f1:.4f}\", f\"{time_per_epoch:.2f}\"])\n",
        "\n",
        "    df = pd.DataFrame(data, columns=['Language', 'Method', 'Model', 'ICM', 'Macro-F1', 'Time/Epoch'])\n",
        "    print(df.to_markdown(index=False))\n",
        "\n",
        "create_results_table()"
      ],
      "metadata": {
        "colab": {
          "base_uri": "https://localhost:8080/"
        },
        "id": "LPZglEXp0B_4",
        "outputId": "14418829-ffd3-47dc-c23d-91aeb754a40f"
      },
      "execution_count": 62,
      "outputs": [
        {
          "output_type": "stream",
          "name": "stdout",
          "text": [
            "| Language   | Method      | Model   |     ICM |   Macro-F1 |   Time/Epoch |\n",
            "|:-----------|:------------|:--------|--------:|-----------:|-------------:|\n",
            "| English    | Fine-tuning | BERT    |  0.0132 |     0.6746 |        38.91 |\n",
            "| English    | Fine-tuning | RoBERTa |  0.3495 |     0.7105 |        20.65 |\n",
            "| English    | LoRA        | BERT    |  0.1863 |     0.7061 |        24.24 |\n",
            "| English    | LoRA        | RoBERTa |  0.3129 |     0.7201 |        23.11 |\n",
            "| Spanish    | Fine-tuning | BERT    |  0.1699 |     0.6916 |        21.11 |\n",
            "| Spanish    | Fine-tuning | RoBERTa | -0.0227 |     0.6737 |        21.38 |\n",
            "| Spanish    | LoRA        | BERT    |  0.1685 |     0.7097 |        24.52 |\n",
            "| Spanish    | LoRA        | RoBERTa | -0.0601 |     0.6965 |        25.08 |\n"
          ]
        }
      ]
    }
  ],
  "metadata": {
    "accelerator": "GPU",
    "colab": {
      "gpuType": "T4",
      "provenance": []
    },
    "kernelspec": {
      "display_name": ".venv",
      "language": "python",
      "name": "python3"
    },
    "language_info": {
      "codemirror_mode": {
        "name": "ipython",
        "version": 3
      },
      "file_extension": ".py",
      "mimetype": "text/x-python",
      "name": "python",
      "nbconvert_exporter": "python",
      "pygments_lexer": "ipython3",
      "version": "3.12.7"
    }
  },
  "nbformat": 4,
  "nbformat_minor": 0
}